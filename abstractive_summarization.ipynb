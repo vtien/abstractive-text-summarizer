{
  "nbformat": 4,
  "nbformat_minor": 0,
  "metadata": {
    "kernelspec": {
      "display_name": "Python 3",
      "language": "python",
      "name": "python3"
    },
    "language_info": {
      "codemirror_mode": {
        "name": "ipython",
        "version": 3
      },
      "file_extension": ".py",
      "mimetype": "text/x-python",
      "name": "python",
      "nbconvert_exporter": "python",
      "pygments_lexer": "ipython3",
      "version": "3.6.5"
    },
    "colab": {
      "name": "Final Adapted Encoder Decoder Model.ipynb",
      "provenance": [],
      "collapsed_sections": [
        "dc8h16oMxoNz",
        "19T6jWDTxoNz"
      ],
      "machine_shape": "hm"
    },
    "accelerator": "GPU"
  },
  "cells": [
    {
      "cell_type": "markdown",
      "metadata": {
        "id": "6rabFZYExoNw"
      },
      "source": [
        "# The Annotated Encoder-Decoder with Attention\n",
        "\n",
        "We will implement an Encoder-Decoder with Attention using (Gated) Recurrent Neural Networks, very closely following the original attention-based neural machine translation paper [\"Neural Machine Translation by Jointly Learning to Align and Translate\"](https://arxiv.org/abs/1409.0473) of Bahdanau et al. (2015). "
      ]
    },
    {
      "cell_type": "markdown",
      "metadata": {
        "id": "WE5dK4bfxoNx"
      },
      "source": [
        "# Model Architecture\n",
        "\n",
        "We will model the probability $p(Y\\mid X)$ of a target sequence $Y=(y_1, \\dots, y_{N})$ given a source sequence $X=(x_1, \\dots, x_M)$ directly with a neural network: an Encoder-Decoder.\n",
        "\n",
        "<img src=\"images/bahdanau.png\" width=\"636\">\n",
        "\n",
        "#### Encoder \n",
        "\n",
        "The encoder reads in the source sentence (*at the bottom of the figure*) and produces a sequence of hidden states $\\mathbf{h}_1, \\dots, \\mathbf{h}_M$, one for each source word. These states should capture the meaning of a word in its context of the given sentence.\n",
        "\n",
        "We will use a bi-directional recurrent neural network (Bi-RNN) as the encoder; a Bi-GRU in particular.\n",
        "\n",
        "First of all we **embed** the source words. \n",
        "We simply look up the **word embedding** for each word in a (randomly initialized) lookup table.\n",
        "We will denote the word embedding for word $i$ in a given sentence with $\\mathbf{x}_i$.\n",
        "By embedding words, our model may exploit the fact that certain words (e.g. *cat* and *dog*) are semantically similar, and can be processed in a similar way.\n",
        "\n",
        "Now, how do we get hidden states $\\mathbf{h}_1, \\dots, \\mathbf{h}_M$? A forward GRU reads the source sentence left-to-right, while a backward GRU reads it right-to-left.\n",
        "Each of them follows a simple recursive formula: \n",
        "$$\\mathbf{h}_j = \\text{GRU}( \\mathbf{x}_j , \\mathbf{h}_{j - 1} )$$\n",
        "i.e. we obtain the next state from the previous state and the current input word embedding.\n",
        "\n",
        "The hidden state of the forward GRU at time step $j$ will know what words **precede** the word at that time step, but it doesn't know what words will follow. In contrast, the backward GRU will only know what words **follow** the word at time step $j$. By **concatenating** those two hidden states (*shown in blue in the figure*), we get $\\mathbf{h}_j$, which captures word $j$ in its full sentence context.\n",
        "\n",
        "\n",
        "#### Decoder \n",
        "\n",
        "The decoder (*at the top of the figure*) is a GRU with hidden state $\\mathbf{s_i}$. It follows a similar formula to the encoder, but takes one extra input $\\mathbf{c}_{i}$ (*shown in yellow*).\n",
        "\n",
        "$$\\mathbf{s}_{i} = f( \\mathbf{s}_{i - 1}, \\mathbf{y}_{i - 1}, \\mathbf{c}_i )$$\n",
        "\n",
        "Here, $\\mathbf{y}_{i - 1}$ is the previously generated target word (*not shown*).\n",
        "\n",
        "At each time step, an **attention mechanism** dynamically selects that part of the source sentence that is most relevant for predicting the current target word. It does so by comparing the last decoder state with each source hidden state. The result is a context vector $\\mathbf{c_i}$ (*shown in yellow*).\n",
        "Later the attention mechanism is explained in more detail.\n",
        "\n",
        "After computing the decoder state $\\mathbf{s}_i$, a non-linear function $g$ (which applies a [softmax](https://en.wikipedia.org/wiki/Softmax_function)) gives us the probability of the target word $y_i$ for this time step:\n",
        "\n",
        "$$ p(y_i \\mid y_{<i}, x_1^M) = g(\\mathbf{s}_i, \\mathbf{c}_i, \\mathbf{y}_{i - 1})$$\n",
        "\n",
        "Because $g$ applies a softmax, it provides a vector the size of the output vocabulary that sums to 1.0: it is a distribution over all target words. During test time, we would select the word with the highest probability for our translation.\n",
        "\n",
        "Now, for optimization, a [cross-entropy loss](https://ml-cheatsheet.readthedocs.io/en/latest/loss_functions.html#cross-entropy) is used to maximize the probability of selecting the correct word at this time step. All parameters (including word embeddings) are then updated to maximize this probability.\n",
        "\n"
      ]
    },
    {
      "cell_type": "code",
      "metadata": {
        "colab": {
          "base_uri": "https://localhost:8080/"
        },
        "id": "tkwfPzATxoNy",
        "outputId": "b162b5ef-dee5-42b8-e9f5-d1b57488aa7d"
      },
      "source": [
        "%matplotlib inline\n",
        "import numpy as np\n",
        "import torch\n",
        "import torch.nn as nn\n",
        "import torch.nn.functional as F\n",
        "import math, copy, time\n",
        "import matplotlib.pyplot as plt\n",
        "from torch.nn.utils.rnn import pack_padded_sequence, pad_packed_sequence\n",
        "from IPython.core.debugger import set_trace\n",
        "\n",
        "# we will use CUDA if it is available\n",
        "USE_CUDA = torch.cuda.is_available()\n",
        "DEVICE=torch.device('cuda:0') # or set to 'cpu'\n",
        "print(\"CUDA:\", USE_CUDA)\n",
        "print(DEVICE)\n",
        "\n",
        "seed = 42\n",
        "np.random.seed(seed)\n",
        "torch.manual_seed(seed)\n",
        "torch.cuda.manual_seed(seed)"
      ],
      "execution_count": 1,
      "outputs": [
        {
          "output_type": "stream",
          "text": [
            "CUDA: True\n",
            "cuda:0\n"
          ],
          "name": "stdout"
        }
      ]
    },
    {
      "cell_type": "markdown",
      "metadata": {
        "id": "bB1pU818xoNz"
      },
      "source": [
        "# Model class\n"
      ]
    },
    {
      "cell_type": "code",
      "metadata": {
        "id": "HS5oFrOexoNz"
      },
      "source": [
        "class EncoderDecoder(nn.Module):\n",
        "    \"\"\"\n",
        "    A standard Encoder-Decoder architecture. Base for this and many \n",
        "    other models.\n",
        "    \"\"\"\n",
        "    def __init__(self, encoder, decoder, src_embed, trg_embed, generator):\n",
        "        super(EncoderDecoder, self).__init__()\n",
        "        self.encoder = encoder\n",
        "        self.decoder = decoder\n",
        "        self.src_embed = src_embed\n",
        "        self.trg_embed = trg_embed\n",
        "        self.generator = generator\n",
        "        \n",
        "    def forward(self, src, trg, src_mask, trg_mask, src_lengths, trg_lengths):\n",
        "        \"\"\"Take in and process masked src and target sequences.\"\"\"\n",
        "        encoder_hidden, encoder_final = self.encode(src, src_mask, src_lengths)\n",
        "        return self.decode(encoder_hidden, encoder_final, src_mask, trg, trg_mask)\n",
        "    \n",
        "    def encode(self, src, src_mask, src_lengths):\n",
        "        return self.encoder(self.src_embed(src), src_mask, src_lengths)\n",
        "    \n",
        "    def decode(self, encoder_hidden, encoder_final, src_mask, trg, trg_mask,\n",
        "               decoder_hidden=None):\n",
        "        return self.decoder(self.trg_embed(trg), encoder_hidden, encoder_final,\n",
        "                            src_mask, trg_mask, hidden=decoder_hidden)"
      ],
      "execution_count": 2,
      "outputs": []
    },
    {
      "cell_type": "markdown",
      "metadata": {
        "id": "qWMBiZEVxoNz"
      },
      "source": [
        "`Generator` class simply projects the pre-output layer ($x$ in the `forward` function below) to obtain the output layer, so that the final dimension is the target vocabulary size."
      ]
    },
    {
      "cell_type": "code",
      "metadata": {
        "id": "dvxcjWCBxoNz"
      },
      "source": [
        "class Generator(nn.Module):\n",
        "    \"\"\"Define standard linear + softmax generation step.\"\"\"\n",
        "    def __init__(self, hidden_size, vocab_size):\n",
        "        super(Generator, self).__init__()\n",
        "        self.proj = nn.Linear(hidden_size, vocab_size, bias=False)\n",
        "\n",
        "    def forward(self, x):\n",
        "        return F.log_softmax(self.proj(x), dim=-1)"
      ],
      "execution_count": 3,
      "outputs": []
    },
    {
      "cell_type": "markdown",
      "metadata": {
        "id": "dkUMktm3xoNz"
      },
      "source": [
        "## Encoder\n",
        "\n",
        "Our encoder is a bi-directional GRU. \n",
        "\n",
        "Because we want to process multiple sentences at the same time for speed reasons (it is more effcient on GPU), we need to support **mini-batches**. Sentences in a mini-batch may have different lengths, which means that the RNN needs to unroll further for certain sentences while it might already have finished for others:\n",
        "\n",
        "```\n",
        "Example: mini-batch with 3 source sentences of different lengths (7, 5, and 3).\n",
        "End-of-sequence is marked with a \"3\" here, and padding positions with \"1\".\n",
        "\n",
        "+---------------+\n",
        "| 4 5 9 8 7 8 3 |\n",
        "+---------------+\n",
        "| 5 4 8 7 3 1 1 |\n",
        "+---------------+\n",
        "| 5 8 3 1 1 1 1 |\n",
        "+---------------+\n",
        "```\n",
        "You can see that, when computing hidden states for this mini-batch, for sentence #2 and #3 we will need to stop updating the hidden state after we have encountered \"3\". We don't want to incorporate the padding values (1s).\n",
        "\n",
        "Luckily, PyTorch has convenient helper functions called `pack_padded_sequence` and `pad_packed_sequence`.\n",
        "These functions take care of masking and padding, so that the resulting word representations are simply zeros after a sentence stops.\n",
        "\n",
        "The code below reads in a source sentence (a sequence of word embeddings) and produces the hidden states.\n",
        "It also returns a final vector, a summary of the complete sentence, by concatenating the first and the last hidden states (they have both seen the whole sentence, each in a different direction). We will use the final vector to initialize the decoder."
      ]
    },
    {
      "cell_type": "code",
      "metadata": {
        "id": "R-lw8kx6xoNz"
      },
      "source": [
        "class Encoder(nn.Module):\n",
        "    \"\"\"Encodes a sequence of word embeddings\"\"\"\n",
        "    def __init__(self, input_size, hidden_size, num_layers=1, dropout=0.):\n",
        "        super(Encoder, self).__init__()\n",
        "        self.num_layers = num_layers\n",
        "        #self.rnn = nn.LSTM(input_size, hidden_size, num_layers, \n",
        "        #                  batch_first=True, bidirectional=True, dropout=dropout)\n",
        "        self.rnn = nn.GRU(input_size, hidden_size, num_layers, \n",
        "                          batch_first=True, bidirectional=True, dropout=dropout)        \n",
        "        \n",
        "    def forward(self, x, mask, lengths):\n",
        "        \"\"\"\n",
        "        Applies a bidirectional GRU to sequence of embeddings x.\n",
        "        The input mini-batch x needs to be sorted by length.\n",
        "        x should have dimensions [batch, time, dim].\n",
        "        \"\"\"\n",
        "        packed = pack_padded_sequence(x, lengths.cpu(), batch_first=True)\n",
        "        output, final = self.rnn(packed)\n",
        "        #output, (final, cell) = self.rnn(packed)\n",
        "        output, _ = pad_packed_sequence(output, batch_first=True)\n",
        "\n",
        "        # we need to manually concatenate the final states for both directions\n",
        "        fwd_final = final[0:final.size(0):2]\n",
        "        bwd_final = final[1:final.size(0):2]\n",
        "        final = torch.cat([fwd_final, bwd_final], dim=2)  # [num_layers, batch, 2*dim]\n",
        "\n",
        "        return output, final"
      ],
      "execution_count": 4,
      "outputs": []
    },
    {
      "cell_type": "markdown",
      "metadata": {
        "id": "-SttLgdOxoNz"
      },
      "source": [
        "### Decoder\n",
        "\n",
        "The decoder is a conditional GRU. Rather than starting with an empty state like the encoder, its initial hidden state results from a projection of the encoder final vector. \n",
        "\n",
        "#### Training\n",
        "In `forward` you can find a for-loop that computes the decoder hidden states one time step at a time. \n",
        "Note that, during training, we know exactly what the target words should be! (They are in `trg_embed`.) This means that we are not even checking here what the prediction is! We simply feed the correct previous target word embedding to the GRU at each time step. This is called teacher forcing.\n",
        "\n",
        "The `forward` function returns all decoder hidden states and pre-output vectors. Elsewhere these are used to compute the loss, after which the parameters are updated.\n",
        "\n",
        "#### Prediction\n",
        "For prediction time, for forward function is only used for a single time step. After predicting a word from the returned pre-output vector, we can call it again, supplying it the word embedding of the previously predicted word and the last state."
      ]
    },
    {
      "cell_type": "code",
      "metadata": {
        "id": "9lpRPIhpxoNz"
      },
      "source": [
        "class Decoder(nn.Module):\n",
        "    \"\"\"A conditional RNN decoder with attention.\"\"\"\n",
        "    \n",
        "    def __init__(self, emb_size, hidden_size, attention, num_layers=1, dropout=0.5,\n",
        "                 bridge=True):\n",
        "        super(Decoder, self).__init__()\n",
        "        \n",
        "        self.hidden_size = hidden_size\n",
        "        self.num_layers = num_layers\n",
        "        self.attention = attention\n",
        "        self.dropout = dropout\n",
        "                 \n",
        "        # self.rnn = nn.LSTM(emb_size + 2*hidden_size, hidden_size, num_layers,\n",
        "        #                   batch_first=True, dropout=dropout)\n",
        "        self.rnn = nn.GRU(emb_size + 2*hidden_size, hidden_size, num_layers,\n",
        "                          batch_first=True, dropout=dropout)        \n",
        "                 \n",
        "        # to initialize from the final encoder state\n",
        "        self.bridge = nn.Linear(2*hidden_size, hidden_size, bias=True) if bridge else None\n",
        "\n",
        "        self.dropout_layer = nn.Dropout(p=dropout)\n",
        "        self.pre_output_layer = nn.Linear(hidden_size + 2*hidden_size + emb_size,\n",
        "                                          hidden_size, bias=False)\n",
        "        \n",
        "    def forward_step(self, prev_embed, encoder_hidden, src_mask, proj_key, hidden):\n",
        "        \"\"\"Perform a single decoder step (1 word)\"\"\"\n",
        "\n",
        "        # compute context vector using attention mechanism\n",
        "        query = hidden[-1].unsqueeze(1)  # [#layers, B, D] -> [B, 1, D]\n",
        "        context, attn_probs = self.attention(\n",
        "            query=query, proj_key=proj_key,\n",
        "            value=encoder_hidden, mask=src_mask)\n",
        "\n",
        "        # update rnn hidden state\n",
        "        rnn_input = torch.cat([prev_embed, context], dim=2)\n",
        "        output, hidden = self.rnn(rnn_input, hidden)\n",
        "        #output, (hidden, cell) = self.rnn(rnn_input, hidden)\n",
        "        \n",
        "        pre_output = torch.cat([prev_embed, output, context], dim=2)\n",
        "        pre_output = self.dropout_layer(pre_output)\n",
        "        pre_output = self.pre_output_layer(pre_output)\n",
        "\n",
        "        return output, hidden, pre_output\n",
        "    \n",
        "    def forward(self, trg_embed, encoder_hidden, encoder_final, \n",
        "                src_mask, trg_mask, hidden=None, max_len=None):\n",
        "        \"\"\"Unroll the decoder one step at a time.\"\"\"\n",
        "                                         \n",
        "        # the maximum number of steps to unroll the RNN\n",
        "        if max_len is None:\n",
        "            max_len = trg_mask.size(-1)\n",
        "\n",
        "        # initialize decoder hidden state\n",
        "        if hidden is None:\n",
        "            hidden = self.init_hidden(encoder_final)\n",
        "        \n",
        "        # pre-compute projected encoder hidden states\n",
        "        # (the \"keys\" for the attention mechanism)\n",
        "        # this is only done for efficiency\n",
        "        proj_key = self.attention.key_layer(encoder_hidden)\n",
        "        \n",
        "        # here we store all intermediate hidden states and pre-output vectors\n",
        "        decoder_states = []\n",
        "        pre_output_vectors = []\n",
        "        \n",
        "        # unroll the decoder RNN for max_len steps\n",
        "        for i in range(max_len):\n",
        "            prev_embed = trg_embed[:, i].unsqueeze(1)\n",
        "            output, hidden, pre_output = self.forward_step(prev_embed, encoder_hidden, \n",
        "                                                           src_mask, proj_key, hidden)\n",
        "            decoder_states.append(output)\n",
        "            pre_output_vectors.append(pre_output)\n",
        "\n",
        "        decoder_states = torch.cat(decoder_states, dim=1)\n",
        "        pre_output_vectors = torch.cat(pre_output_vectors, dim=1)\n",
        "        return decoder_states, hidden, pre_output_vectors  # [B, N, D]\n",
        "\n",
        "    def init_hidden(self, encoder_final):\n",
        "        \"\"\"Returns the initial decoder state,\n",
        "        conditioned on the final encoder state.\"\"\"\n",
        "\n",
        "        if encoder_final is None:\n",
        "            return None  # start with zeros\n",
        "\n",
        "        return torch.tanh(self.bridge(encoder_final))            "
      ],
      "execution_count": 5,
      "outputs": []
    },
    {
      "cell_type": "markdown",
      "metadata": {
        "id": "n6cptdczxoNz"
      },
      "source": [
        "### Attention                                                                                                                                                                               \n",
        "\n",
        "At every time step, the decoder has access to *all* source word representations $\\mathbf{h}_1, \\dots, \\mathbf{h}_M$. \n",
        "An attention mechanism allows the model to focus on the currently most relevant part of the source sentence.\n",
        "The state of the decoder is represented by GRU hidden state $\\mathbf{s}_i$.\n",
        "So if we want to know which source word representation(s) $\\mathbf{h}_j$ are most relevant, we will need to define a function that takes those two things as input.\n",
        "\n",
        "Here we use the MLP-based, additive attention that was used in Bahdanau et al.:\n",
        "\n",
        "<img src=\"images/attention.png\" width=\"280\">\n",
        "\n",
        "\n",
        "We apply an MLP with tanh-activation to both the current decoder state $\\bf s_i$ (the *query*) and each encoder state $\\bf h_j$ (the *key*), and then project this to a single value (i.e. a scalar) to get the *attention energy* $e_{ij}$. \n",
        "\n",
        "Once all energies are computed, they are normalized by a softmax so that they sum to one: \n",
        "\n",
        "$$ \\alpha_{ij} = \\text{softmax}(\\mathbf{e}_i)[j] $$\n",
        "\n",
        "$$\\sum_j \\alpha_{ij} = 1.0$$ \n",
        "\n",
        "The context vector for time step $i$ is then a weighted sum of the encoder hidden states (the *values*):\n",
        "$$\\mathbf{c}_i = \\sum_j \\alpha_{ij} \\mathbf{h}_j$$"
      ]
    },
    {
      "cell_type": "code",
      "metadata": {
        "id": "6MRuYPWrxoNz"
      },
      "source": [
        "class BahdanauAttention(nn.Module):\n",
        "    \"\"\"Implements Bahdanau (MLP) attention\"\"\"\n",
        "    \n",
        "    def __init__(self, hidden_size, key_size=None, query_size=None):\n",
        "        super(BahdanauAttention, self).__init__()\n",
        "        \n",
        "        # We assume a bi-directional encoder so key_size is 2*hidden_size\n",
        "        key_size = 2 * hidden_size if key_size is None else key_size\n",
        "        query_size = hidden_size if query_size is None else query_size\n",
        "\n",
        "        self.key_layer = nn.Linear(key_size, hidden_size, bias=False)\n",
        "        self.query_layer = nn.Linear(query_size, hidden_size, bias=False)\n",
        "        self.energy_layer = nn.Linear(hidden_size, 1, bias=False)\n",
        "        \n",
        "        # to store attention scores\n",
        "        self.alphas = None\n",
        "        \n",
        "    def forward(self, query=None, proj_key=None, value=None, mask=None):\n",
        "        assert mask is not None, \"mask is required\"\n",
        "\n",
        "        # We first project the query (the decoder state).\n",
        "        # The projected keys (the encoder states) were already pre-computated.\n",
        "        query = self.query_layer(query)\n",
        "        \n",
        "        # Calculate scores.\n",
        "        scores = self.energy_layer(torch.tanh(query + proj_key))\n",
        "        scores = scores.squeeze(2).unsqueeze(1)\n",
        "        \n",
        "        # Mask out invalid positions.\n",
        "        # The mask marks valid positions so we invert it using `mask & 0`.\n",
        "        scores.data.masked_fill_(mask == 0, -float('inf'))\n",
        "        \n",
        "        # Turn scores to probabilities.\n",
        "        alphas = F.softmax(scores, dim=-1)\n",
        "        self.alphas = alphas        \n",
        "        \n",
        "        # The context vector is the weighted sum of the values.\n",
        "        context = torch.bmm(alphas, value)\n",
        "        \n",
        "        # context shape: [B, 1, 2D], alphas shape: [B, 1, M]\n",
        "        return context, alphas"
      ],
      "execution_count": 6,
      "outputs": []
    },
    {
      "cell_type": "markdown",
      "metadata": {
        "id": "dc8h16oMxoNz"
      },
      "source": [
        "## Embeddings and Softmax                                                                                                                                                                                                                                                                                           \n",
        "We use learned embeddings to convert the input tokens and output tokens to vectors of dimension `emb_size`.\n",
        "\n",
        "We will simply use PyTorch's [nn.Embedding](https://pytorch.org/docs/stable/nn.html?highlight=embedding#torch.nn.Embedding) class."
      ]
    },
    {
      "cell_type": "markdown",
      "metadata": {
        "id": "f6hQbXaUxoNz"
      },
      "source": [
        "## Full Model\n",
        "\n",
        "Here we define a function from hyperparameters to a full model. "
      ]
    },
    {
      "cell_type": "code",
      "metadata": {
        "id": "4-E_ge4ixoNz"
      },
      "source": [
        "def make_model(src_vocab, tgt_vocab, emb_size=256, hidden_size=512, num_layers=1, dropout=0.1):\n",
        "    \"Helper: Construct a model from hyperparameters.\"\n",
        "\n",
        "    attention = BahdanauAttention(hidden_size)\n",
        "\n",
        "    model = EncoderDecoder(\n",
        "        Encoder(emb_size, hidden_size, num_layers=num_layers, dropout=dropout),\n",
        "        Decoder(emb_size, hidden_size, attention, num_layers=num_layers, dropout=dropout),\n",
        "        nn.Embedding(src_vocab, emb_size),\n",
        "        nn.Embedding(tgt_vocab, emb_size),\n",
        "        Generator(hidden_size, tgt_vocab))\n",
        "\n",
        "    return model.cuda() if USE_CUDA else model"
      ],
      "execution_count": 7,
      "outputs": []
    },
    {
      "cell_type": "markdown",
      "metadata": {
        "id": "PB9n7TINxoNz"
      },
      "source": [
        "# Training\n",
        "\n",
        "This section describes the training regime for our models."
      ]
    },
    {
      "cell_type": "markdown",
      "metadata": {
        "id": "fbIoa2uMxoNz"
      },
      "source": [
        "We stop for a quick interlude to introduce some of the tools \n",
        "needed to train a standard encoder decoder model. First we define a batch object that holds the src and target sentences for training, as well as their lengths and masks. "
      ]
    },
    {
      "cell_type": "markdown",
      "metadata": {
        "id": "FIashN5nxoNz"
      },
      "source": [
        "## Batches and Masking"
      ]
    },
    {
      "cell_type": "code",
      "metadata": {
        "id": "mTEBJCkjxoNz"
      },
      "source": [
        "class Batch:\n",
        "    \"\"\"Object for holding a batch of data with mask during training.\n",
        "    Input is a batch from a torch text iterator.\n",
        "    \"\"\"\n",
        "    def __init__(self, src, trg, pad_index=0):\n",
        "        \n",
        "        src, src_lengths = src\n",
        "        \n",
        "        self.src = src\n",
        "        self.src_lengths = src_lengths\n",
        "        self.src_mask = (src != pad_index).unsqueeze(-2)\n",
        "        self.nseqs = src.size(0)\n",
        "        \n",
        "        self.trg = None\n",
        "        self.trg_y = None\n",
        "        self.trg_mask = None\n",
        "        self.trg_lengths = None\n",
        "        self.ntokens = None\n",
        "\n",
        "        if trg is not None:\n",
        "            trg, trg_lengths = trg\n",
        "            self.trg = trg[:, :-1]\n",
        "            self.trg_lengths = trg_lengths\n",
        "            self.trg_y = trg[:, 1:]\n",
        "            self.trg_mask = (self.trg_y != pad_index)\n",
        "            self.ntokens = (self.trg_y != pad_index).data.sum().item()\n",
        "        \n",
        "        if USE_CUDA:\n",
        "            self.src = self.src.cuda()\n",
        "            self.src_mask = self.src_mask.cuda()\n",
        "\n",
        "            if trg is not None:\n",
        "                self.trg = self.trg.cuda()\n",
        "                self.trg_y = self.trg_y.cuda()\n",
        "                self.trg_mask = self.trg_mask.cuda()"
      ],
      "execution_count": 8,
      "outputs": []
    },
    {
      "cell_type": "markdown",
      "metadata": {
        "id": "Spr75A3zxoNz"
      },
      "source": [
        "## Training Loop\n",
        "The code below trains the model for 1 epoch (=1 pass through the training data)."
      ]
    },
    {
      "cell_type": "code",
      "metadata": {
        "id": "4RS8NnK8xoNz"
      },
      "source": [
        "def run_epoch(data_iter, model, loss_compute, print_every=50):\n",
        "    \"\"\"Standard Training and Logging Function\"\"\"\n",
        "\n",
        "    start = time.time()\n",
        "    total_tokens = 0\n",
        "    total_loss = 0\n",
        "    print_tokens = 0\n",
        "\n",
        "    for i, batch in enumerate(data_iter, 1):\n",
        "        \n",
        "        out, _, pre_output = model.forward(batch.src, batch.trg,\n",
        "                                           batch.src_mask, batch.trg_mask,\n",
        "                                           batch.src_lengths, batch.trg_lengths)\n",
        "        loss = loss_compute(pre_output, batch.trg_y, batch.nseqs)\n",
        "        total_loss += loss\n",
        "        total_tokens += batch.ntokens\n",
        "        print_tokens += batch.ntokens\n",
        "\n",
        "        #scheduler.step() #this is for cosine annealing\n",
        "        #lr_list.append(scheduler.get_lr()) for cosine annealing\n",
        "\n",
        "        \n",
        "        if model.training and i % print_every == 0:\n",
        "            elapsed = time.time() - start\n",
        "            print(\"Epoch Step: %d Loss: %f Tokens per Sec: %f\" %\n",
        "                    (i, loss / batch.nseqs, print_tokens / elapsed))\n",
        "            start = time.time()\n",
        "            print_tokens = 0\n",
        "\n",
        "    return math.exp(total_loss / float(total_tokens))"
      ],
      "execution_count": 9,
      "outputs": []
    },
    {
      "cell_type": "markdown",
      "metadata": {
        "id": "19T6jWDTxoNz"
      },
      "source": [
        "## Training Data and Batching\n",
        "\n",
        "We will use torch text for batching. This is discussed in more detail below. "
      ]
    },
    {
      "cell_type": "markdown",
      "metadata": {
        "id": "t7295BehxoNz"
      },
      "source": [
        "## Optimizer\n",
        "\n",
        "We will use the [Adam optimizer](https://arxiv.org/abs/1412.6980) with default settings ($\\beta_1=0.9$, $\\beta_2=0.999$ and $\\epsilon=10^{-8}$).\n",
        "\n",
        "We will use $0.0003$ as the learning rate here, but for different problems another learning rate may be more appropriate. You will have to tune that."
      ]
    },
    {
      "cell_type": "markdown",
      "metadata": {
        "id": "LSb5xNYsxoNz"
      },
      "source": [
        "## Loss Computation"
      ]
    },
    {
      "cell_type": "code",
      "metadata": {
        "id": "bDcKEVijxoNz"
      },
      "source": [
        "class SimpleLossCompute:\n",
        "    \"\"\"A simple loss compute and train function.\"\"\"\n",
        "\n",
        "    def __init__(self, generator, criterion, opt=None):\n",
        "        self.generator = generator\n",
        "        self.criterion = criterion\n",
        "        self.opt = opt\n",
        "\n",
        "    def __call__(self, x, y, norm):\n",
        "        x = self.generator(x)\n",
        "        loss = self.criterion(x.contiguous().view(-1, x.size(-1)),\n",
        "                              y.contiguous().view(-1))\n",
        "        loss = loss / norm\n",
        "\n",
        "        if self.opt is not None:\n",
        "            loss.backward()          \n",
        "            self.opt.step()\n",
        "            self.opt.zero_grad()\n",
        "\n",
        "        return loss.data.item() * norm"
      ],
      "execution_count": 10,
      "outputs": []
    },
    {
      "cell_type": "markdown",
      "metadata": {
        "id": "A-CZc4p4LlCt"
      },
      "source": [
        "## Label Smoothing"
      ]
    },
    {
      "cell_type": "code",
      "metadata": {
        "id": "EznrgeT4LnAq"
      },
      "source": [
        "from torch.autograd import Variable\n",
        "class LabelSmoothing(nn.Module):\n",
        "    \"Implement label smoothing.\"\n",
        "    def __init__(self, size, padding_idx, smoothing=0.0):\n",
        "        super(LabelSmoothing, self).__init__()\n",
        "        self.criterion = nn.KLDivLoss(size_average=False)\n",
        "        self.padding_idx = padding_idx\n",
        "        self.confidence = 1.0 - smoothing\n",
        "        self.smoothing = smoothing\n",
        "        self.size = size\n",
        "        self.true_dist = None\n",
        "        \n",
        "    def forward(self, x, target):\n",
        "        assert x.size(1) == self.size\n",
        "        true_dist = x.data.clone()\n",
        "        true_dist.fill_(self.smoothing / (self.size - 2))\n",
        "        true_dist.scatter_(1, target.data.unsqueeze(1), self.confidence)\n",
        "        true_dist[:, self.padding_idx] = 0\n",
        "        mask = torch.nonzero(target.data == self.padding_idx)\n",
        "        if mask.dim() > 0:\n",
        "            true_dist.index_fill_(0, mask.squeeze(), 0.0)\n",
        "        self.true_dist = true_dist\n",
        "        return self.criterion(x, Variable(true_dist, requires_grad=False))"
      ],
      "execution_count": 11,
      "outputs": []
    },
    {
      "cell_type": "markdown",
      "metadata": {
        "id": "YtNlNy8fxoNz"
      },
      "source": [
        "### Printing examples\n",
        "\n",
        "To monitor progress during training, we will translate a few examples.\n",
        "\n",
        "We use greedy decoding for simplicity; that is, at each time step, starting at the first token, we choose the one with that maximum probability, and we never revisit that choice. "
      ]
    },
    {
      "cell_type": "code",
      "metadata": {
        "id": "WFrwxValxoNz"
      },
      "source": [
        "def greedy_decode(model, src, src_mask, src_lengths, max_len=100, sos_index=1, eos_index=None):\n",
        "    \"\"\"Greedily decode a sentence.\"\"\"\n",
        "\n",
        "    with torch.no_grad():\n",
        "        encoder_hidden, encoder_final = model.encode(src, src_mask, src_lengths)\n",
        "        prev_y = torch.ones(1, 1).fill_(sos_index).type_as(src)\n",
        "        trg_mask = torch.ones_like(prev_y)\n",
        "\n",
        "    output = []\n",
        "    attention_scores = []\n",
        "    hidden = None\n",
        "\n",
        "    for i in range(max_len):\n",
        "        with torch.no_grad():\n",
        "            out, hidden, pre_output = model.decode(\n",
        "              encoder_hidden, encoder_final, src_mask,\n",
        "              prev_y, trg_mask, hidden)\n",
        "\n",
        "            # we predict from the pre-output layer, which is\n",
        "            # a combination of Decoder state, prev emb, and context\n",
        "            prob = model.generator(pre_output[:, -1])\n",
        "\n",
        "        _, next_word = torch.max(prob, dim=1)\n",
        "        next_word = next_word.data.item()\n",
        "        output.append(next_word)\n",
        "        prev_y = torch.ones(1, 1).type_as(src).fill_(next_word)\n",
        "        attention_scores.append(model.decoder.attention.alphas.cpu().numpy())\n",
        "    \n",
        "    output = np.array(output)\n",
        "        \n",
        "    # cut off everything starting from </s> \n",
        "    # (only when eos_index provided)\n",
        "    if eos_index is not None:\n",
        "        first_eos = np.where(output==eos_index)[0]\n",
        "        if len(first_eos) > 0:\n",
        "            output = output[:first_eos[0]]      \n",
        "    \n",
        "    return output, np.concatenate(attention_scores, axis=1)\n",
        "  \n",
        "\n",
        "def lookup_words(x, vocab=None):\n",
        "    if vocab is not None:\n",
        "        x = [vocab.itos[i] for i in x]\n",
        "\n",
        "    return [str(t) for t in x]"
      ],
      "execution_count": 12,
      "outputs": []
    },
    {
      "cell_type": "code",
      "metadata": {
        "id": "843q2SAnxoNz"
      },
      "source": [
        "def print_examples(example_iter, model, n=2, max_len=100, \n",
        "                   sos_index=1, \n",
        "                   src_eos_index=None, \n",
        "                   trg_eos_index=None, \n",
        "                   src_vocab=None, trg_vocab=None):\n",
        "    \"\"\"Prints N examples. Assumes batch size of 1.\"\"\"\n",
        "\n",
        "    model.eval()\n",
        "    count = 0\n",
        "    print()\n",
        "    \n",
        "    if src_vocab is not None and trg_vocab is not None:\n",
        "        src_eos_index = src_vocab.stoi[EOS_TOKEN]\n",
        "        trg_sos_index = trg_vocab.stoi[SOS_TOKEN]\n",
        "        trg_eos_index = trg_vocab.stoi[EOS_TOKEN]\n",
        "    else:\n",
        "        src_eos_index = None\n",
        "        trg_sos_index = 1\n",
        "        trg_eos_index = None\n",
        "        \n",
        "    for i, batch in enumerate(example_iter):\n",
        "      \n",
        "        src = batch.src.cpu().numpy()[0, :]\n",
        "        trg = batch.trg_y.cpu().numpy()[0, :]\n",
        "\n",
        "        # remove </s> (if it is there)\n",
        "        src = src[:-1] if src[-1] == src_eos_index else src\n",
        "        trg = trg[:-1] if trg[-1] == trg_eos_index else trg      \n",
        "      \n",
        "        result, _ = greedy_decode(\n",
        "          model, batch.src, batch.src_mask, batch.src_lengths,\n",
        "          max_len=max_len, sos_index=trg_sos_index, eos_index=trg_eos_index)\n",
        "        print(\"Example #%d\" % (i+1))\n",
        "        print(\"Src : \", \" \".join(lookup_words(src, vocab=src_vocab)))\n",
        "        print(\"Trg : \", \" \".join(lookup_words(trg, vocab=trg_vocab)))\n",
        "        print(\"Pred: \", \" \".join(lookup_words(result, vocab=trg_vocab)))\n",
        "        print()\n",
        "        \n",
        "        count += 1\n",
        "        if count == n:\n",
        "            break\n",
        "    "
      ],
      "execution_count": 13,
      "outputs": []
    },
    {
      "cell_type": "markdown",
      "metadata": {
        "id": "_8YnR1NXxoNz"
      },
      "source": [
        "# CNN Text Summarization Task"
      ]
    },
    {
      "cell_type": "code",
      "metadata": {
        "colab": {
          "base_uri": "https://localhost:8080/"
        },
        "id": "JJPUURAkxoNz",
        "outputId": "a8dda0d3-0877-4f31-98d6-118a5434c815"
      },
      "source": [
        "!pip install git+git://github.com/pytorch/text spacy \n",
        "!python -m spacy download en"
      ],
      "execution_count": 14,
      "outputs": [
        {
          "output_type": "stream",
          "text": [
            "Collecting git+git://github.com/pytorch/text\n",
            "  Cloning git://github.com/pytorch/text to /tmp/pip-req-build-od0a7yzj\n",
            "  Running command git clone -q git://github.com/pytorch/text /tmp/pip-req-build-od0a7yzj\n",
            "  Running command git submodule update --init --recursive -q\n",
            "Requirement already satisfied: spacy in /usr/local/lib/python3.6/dist-packages (2.2.4)\n",
            "Requirement already satisfied: tqdm in /usr/local/lib/python3.6/dist-packages (from torchtext==0.9.0a0+ec413ff) (4.41.1)\n",
            "Requirement already satisfied: requests in /usr/local/lib/python3.6/dist-packages (from torchtext==0.9.0a0+ec413ff) (2.23.0)\n",
            "Requirement already satisfied: torch in /usr/local/lib/python3.6/dist-packages (from torchtext==0.9.0a0+ec413ff) (1.7.0+cu101)\n",
            "Requirement already satisfied: numpy in /usr/local/lib/python3.6/dist-packages (from torchtext==0.9.0a0+ec413ff) (1.18.5)\n",
            "Requirement already satisfied: srsly<1.1.0,>=1.0.2 in /usr/local/lib/python3.6/dist-packages (from spacy) (1.0.5)\n",
            "Requirement already satisfied: cymem<2.1.0,>=2.0.2 in /usr/local/lib/python3.6/dist-packages (from spacy) (2.0.5)\n",
            "Requirement already satisfied: plac<1.2.0,>=0.9.6 in /usr/local/lib/python3.6/dist-packages (from spacy) (1.1.3)\n",
            "Requirement already satisfied: blis<0.5.0,>=0.4.0 in /usr/local/lib/python3.6/dist-packages (from spacy) (0.4.1)\n",
            "Requirement already satisfied: wasabi<1.1.0,>=0.4.0 in /usr/local/lib/python3.6/dist-packages (from spacy) (0.8.0)\n",
            "Requirement already satisfied: setuptools in /usr/local/lib/python3.6/dist-packages (from spacy) (50.3.2)\n",
            "Requirement already satisfied: catalogue<1.1.0,>=0.0.7 in /usr/local/lib/python3.6/dist-packages (from spacy) (1.0.0)\n",
            "Requirement already satisfied: thinc==7.4.0 in /usr/local/lib/python3.6/dist-packages (from spacy) (7.4.0)\n",
            "Requirement already satisfied: murmurhash<1.1.0,>=0.28.0 in /usr/local/lib/python3.6/dist-packages (from spacy) (1.0.5)\n",
            "Requirement already satisfied: preshed<3.1.0,>=3.0.2 in /usr/local/lib/python3.6/dist-packages (from spacy) (3.0.5)\n",
            "Requirement already satisfied: chardet<4,>=3.0.2 in /usr/local/lib/python3.6/dist-packages (from requests->torchtext==0.9.0a0+ec413ff) (3.0.4)\n",
            "Requirement already satisfied: urllib3!=1.25.0,!=1.25.1,<1.26,>=1.21.1 in /usr/local/lib/python3.6/dist-packages (from requests->torchtext==0.9.0a0+ec413ff) (1.24.3)\n",
            "Requirement already satisfied: idna<3,>=2.5 in /usr/local/lib/python3.6/dist-packages (from requests->torchtext==0.9.0a0+ec413ff) (2.10)\n",
            "Requirement already satisfied: certifi>=2017.4.17 in /usr/local/lib/python3.6/dist-packages (from requests->torchtext==0.9.0a0+ec413ff) (2020.12.5)\n",
            "Requirement already satisfied: future in /usr/local/lib/python3.6/dist-packages (from torch->torchtext==0.9.0a0+ec413ff) (0.16.0)\n",
            "Requirement already satisfied: dataclasses in /usr/local/lib/python3.6/dist-packages (from torch->torchtext==0.9.0a0+ec413ff) (0.8)\n",
            "Requirement already satisfied: typing-extensions in /usr/local/lib/python3.6/dist-packages (from torch->torchtext==0.9.0a0+ec413ff) (3.7.4.3)\n",
            "Requirement already satisfied: importlib-metadata>=0.20; python_version < \"3.8\" in /usr/local/lib/python3.6/dist-packages (from catalogue<1.1.0,>=0.0.7->spacy) (3.1.1)\n",
            "Requirement already satisfied: zipp>=0.5 in /usr/local/lib/python3.6/dist-packages (from importlib-metadata>=0.20; python_version < \"3.8\"->catalogue<1.1.0,>=0.0.7->spacy) (3.4.0)\n",
            "Building wheels for collected packages: torchtext\n",
            "  Building wheel for torchtext (setup.py) ... \u001b[?25l\u001b[?25hdone\n",
            "  Created wheel for torchtext: filename=torchtext-0.9.0a0+ec413ff-cp36-cp36m-linux_x86_64.whl size=7132484 sha256=2cbdf5237f9ba092c8fdb17a284189ccac7836d933de9d56fb8dc4d1e2c0ab15\n",
            "  Stored in directory: /tmp/pip-ephem-wheel-cache-ibtxccvd/wheels/39/42/ff/82f5ccbb0f30b25e14610376f5d0c67913fc05017dab59f8eb\n",
            "Successfully built torchtext\n",
            "Installing collected packages: torchtext\n",
            "  Found existing installation: torchtext 0.3.1\n",
            "    Uninstalling torchtext-0.3.1:\n",
            "      Successfully uninstalled torchtext-0.3.1\n",
            "Successfully installed torchtext-0.9.0a0+ec413ff\n",
            "Requirement already satisfied: en_core_web_sm==2.2.5 from https://github.com/explosion/spacy-models/releases/download/en_core_web_sm-2.2.5/en_core_web_sm-2.2.5.tar.gz#egg=en_core_web_sm==2.2.5 in /usr/local/lib/python3.6/dist-packages (2.2.5)\n",
            "Requirement already satisfied: spacy>=2.2.2 in /usr/local/lib/python3.6/dist-packages (from en_core_web_sm==2.2.5) (2.2.4)\n",
            "Requirement already satisfied: srsly<1.1.0,>=1.0.2 in /usr/local/lib/python3.6/dist-packages (from spacy>=2.2.2->en_core_web_sm==2.2.5) (1.0.5)\n",
            "Requirement already satisfied: requests<3.0.0,>=2.13.0 in /usr/local/lib/python3.6/dist-packages (from spacy>=2.2.2->en_core_web_sm==2.2.5) (2.23.0)\n",
            "Requirement already satisfied: preshed<3.1.0,>=3.0.2 in /usr/local/lib/python3.6/dist-packages (from spacy>=2.2.2->en_core_web_sm==2.2.5) (3.0.5)\n",
            "Requirement already satisfied: cymem<2.1.0,>=2.0.2 in /usr/local/lib/python3.6/dist-packages (from spacy>=2.2.2->en_core_web_sm==2.2.5) (2.0.5)\n",
            "Requirement already satisfied: blis<0.5.0,>=0.4.0 in /usr/local/lib/python3.6/dist-packages (from spacy>=2.2.2->en_core_web_sm==2.2.5) (0.4.1)\n",
            "Requirement already satisfied: plac<1.2.0,>=0.9.6 in /usr/local/lib/python3.6/dist-packages (from spacy>=2.2.2->en_core_web_sm==2.2.5) (1.1.3)\n",
            "Requirement already satisfied: tqdm<5.0.0,>=4.38.0 in /usr/local/lib/python3.6/dist-packages (from spacy>=2.2.2->en_core_web_sm==2.2.5) (4.41.1)\n",
            "Requirement already satisfied: thinc==7.4.0 in /usr/local/lib/python3.6/dist-packages (from spacy>=2.2.2->en_core_web_sm==2.2.5) (7.4.0)\n",
            "Requirement already satisfied: setuptools in /usr/local/lib/python3.6/dist-packages (from spacy>=2.2.2->en_core_web_sm==2.2.5) (50.3.2)\n",
            "Requirement already satisfied: murmurhash<1.1.0,>=0.28.0 in /usr/local/lib/python3.6/dist-packages (from spacy>=2.2.2->en_core_web_sm==2.2.5) (1.0.5)\n",
            "Requirement already satisfied: catalogue<1.1.0,>=0.0.7 in /usr/local/lib/python3.6/dist-packages (from spacy>=2.2.2->en_core_web_sm==2.2.5) (1.0.0)\n",
            "Requirement already satisfied: numpy>=1.15.0 in /usr/local/lib/python3.6/dist-packages (from spacy>=2.2.2->en_core_web_sm==2.2.5) (1.18.5)\n",
            "Requirement already satisfied: wasabi<1.1.0,>=0.4.0 in /usr/local/lib/python3.6/dist-packages (from spacy>=2.2.2->en_core_web_sm==2.2.5) (0.8.0)\n",
            "Requirement already satisfied: certifi>=2017.4.17 in /usr/local/lib/python3.6/dist-packages (from requests<3.0.0,>=2.13.0->spacy>=2.2.2->en_core_web_sm==2.2.5) (2020.12.5)\n",
            "Requirement already satisfied: chardet<4,>=3.0.2 in /usr/local/lib/python3.6/dist-packages (from requests<3.0.0,>=2.13.0->spacy>=2.2.2->en_core_web_sm==2.2.5) (3.0.4)\n",
            "Requirement already satisfied: idna<3,>=2.5 in /usr/local/lib/python3.6/dist-packages (from requests<3.0.0,>=2.13.0->spacy>=2.2.2->en_core_web_sm==2.2.5) (2.10)\n",
            "Requirement already satisfied: urllib3!=1.25.0,!=1.25.1,<1.26,>=1.21.1 in /usr/local/lib/python3.6/dist-packages (from requests<3.0.0,>=2.13.0->spacy>=2.2.2->en_core_web_sm==2.2.5) (1.24.3)\n",
            "Requirement already satisfied: importlib-metadata>=0.20; python_version < \"3.8\" in /usr/local/lib/python3.6/dist-packages (from catalogue<1.1.0,>=0.0.7->spacy>=2.2.2->en_core_web_sm==2.2.5) (3.1.1)\n",
            "Requirement already satisfied: zipp>=0.5 in /usr/local/lib/python3.6/dist-packages (from importlib-metadata>=0.20; python_version < \"3.8\"->catalogue<1.1.0,>=0.0.7->spacy>=2.2.2->en_core_web_sm==2.2.5) (3.4.0)\n",
            "\u001b[38;5;2m✔ Download and installation successful\u001b[0m\n",
            "You can now load the model via spacy.load('en_core_web_sm')\n",
            "\u001b[38;5;2m✔ Linking successful\u001b[0m\n",
            "/usr/local/lib/python3.6/dist-packages/en_core_web_sm -->\n",
            "/usr/local/lib/python3.6/dist-packages/spacy/data/en\n",
            "You can now load the model via spacy.load('en')\n"
          ],
          "name": "stdout"
        }
      ]
    },
    {
      "cell_type": "markdown",
      "metadata": {
        "id": "-i2U3gqIxoNz"
      },
      "source": [
        "## Data Loading\n",
        "\n",
        "We will load the dataset using torchtext and spacy for tokenization.\n",
        "\n",
        "For speed we only include short sentences, and we include a word in the vocabulary only if it occurs at least 5 times. In this case we also lowercase the data.\n",
        "\n",
        "If you have **issues** with torch text in the cell below (e.g. an `ascii` error), try running `export LC_ALL=\"en_US.UTF-8\"` before you start `jupyter notebook`."
      ]
    },
    {
      "cell_type": "code",
      "metadata": {
        "id": "-3QsCVEESwgR"
      },
      "source": [
        "#mount google drive\n",
        "!pip install -U -q PyDrive\n",
        "from pydrive.auth import GoogleAuth\n",
        "from pydrive.drive import GoogleDrive\n",
        "from google.colab import auth\n",
        "from oauth2client.client import GoogleCredentials\n",
        "# Authenticate and create the PyDrive client.\n",
        "auth.authenticate_user()\n",
        "gauth = GoogleAuth()\n",
        "gauth.credentials = GoogleCredentials.get_application_default()\n",
        "drive = GoogleDrive(gauth)"
      ],
      "execution_count": 15,
      "outputs": []
    },
    {
      "cell_type": "code",
      "metadata": {
        "colab": {
          "base_uri": "https://localhost:8080/"
        },
        "id": "3-QlJjWSSw6v",
        "outputId": "a2f08fb4-2820-4f5c-88f5-32aa4c2d0f3e"
      },
      "source": [
        "#load data into directory\n",
        "downloaded = drive.CreateFile({'id':'1vepM2Gabp-3Ca7kN8HqWggEvVCQ0xX75'}) \n",
        "downloaded.GetContentFile('CNN_train.csv')\n",
        "\n",
        "downloaded = drive.CreateFile({'id':'1PG9sAgZH1hLAHPdHTGPzs_qpRHUoaJ32'}) \n",
        "downloaded.GetContentFile('CNN_test.csv')\n",
        "\n",
        "downloaded = drive.CreateFile({'id':'1fNAwFmg3uNhVu2vDgmjIUS7D0VHPTlMB'}) \n",
        "downloaded.GetContentFile('CNN_val.csv')\n",
        "\n",
        "#Enable GPU training \n",
        "import torch\n",
        "USE_GPU = torch.cuda.is_available()\n",
        "print('USE_GPU={}'.format(USE_GPU))\n",
        "if USE_GPU:\n",
        "    print('current_device={}'.format(torch.cuda.current_device()))"
      ],
      "execution_count": 16,
      "outputs": [
        {
          "output_type": "stream",
          "text": [
            "USE_GPU=True\n",
            "current_device=0\n"
          ],
          "name": "stdout"
        }
      ]
    },
    {
      "cell_type": "code",
      "metadata": {
        "id": "2MgOPDNPffnq"
      },
      "source": [
        "##Colab pro version (increased dataset sizes)\n",
        "\n",
        "# #load data into directory\n",
        "# downloaded = drive.CreateFile({'id':'1GUts0SmlAKEc6sujhLTbGv54WmUodZDZ'}) \n",
        "# downloaded.GetContentFile('pro_CNN_train.csv')\n",
        "\n",
        "# downloaded = drive.CreateFile({'id':'1xq8EYdAhqnK_XnnAp8AKAeTjowgFi1Jf'}) \n",
        "# downloaded.GetContentFile('pro_CNN_test.csv')\n",
        "\n",
        "# downloaded = drive.CreateFile({'id':'1pdEP95A33j6ybbVH_jMS3aBbWIIfHdqs'}) \n",
        "# downloaded.GetContentFile('pro_CNN_val.csv')\n",
        "\n",
        "# #Enable GPU training \n",
        "# import torch\n",
        "# USE_GPU = torch.cuda.is_available()\n",
        "# print('USE_GPU={}'.format(USE_GPU))\n",
        "# if USE_GPU:\n",
        "#     print('current_device={}'.format(torch.cuda.current_device()))"
      ],
      "execution_count": null,
      "outputs": []
    },
    {
      "cell_type": "code",
      "metadata": {
        "colab": {
          "base_uri": "https://localhost:8080/"
        },
        "id": "Xmrl195Zyo-h",
        "outputId": "4625e489-7cd3-462d-e879-ff8a2e64da54"
      },
      "source": [
        "import torch\r\n",
        "USE_GPU = torch.cuda.is_available()\r\n",
        "print('USE_GPU={}'.format(USE_GPU))\r\n",
        "if USE_GPU:\r\n",
        "    print('current_device={}'.format(torch.cuda.current_device()))"
      ],
      "execution_count": 17,
      "outputs": [
        {
          "output_type": "stream",
          "text": [
            "USE_GPU=True\n",
            "current_device=0\n"
          ],
          "name": "stdout"
        }
      ]
    },
    {
      "cell_type": "code",
      "metadata": {
        "colab": {
          "base_uri": "https://localhost:8080/"
        },
        "id": "_JZgq__NyrIy",
        "outputId": "5c70d1fc-ac73-43c9-f5ff-904bcc950a15"
      },
      "source": [
        "from google.colab import drive\n",
        "drive.mount('/content/drive')"
      ],
      "execution_count": 19,
      "outputs": [
        {
          "output_type": "stream",
          "text": [
            "Mounted at /content/drive\n"
          ],
          "name": "stdout"
        }
      ]
    },
    {
      "cell_type": "code",
      "metadata": {
        "id": "EzhVWSlhxoNz",
        "colab": {
          "base_uri": "https://localhost:8080/"
        },
        "outputId": "34868d77-110f-4ad8-fd00-82c204c8e3c6"
      },
      "source": [
        "# For data loading.\n",
        "from torchtext import data, datasets\n",
        "from torchtext.data import TabularDataset\n",
        "\n",
        "if True:\n",
        "    import spacy\n",
        "    spacy_en = spacy.load('en')\n",
        "\n",
        "    def tokenize_en(text):\n",
        "        return [tok.text for tok in spacy_en.tokenizer(text)]\n",
        "\n",
        "    UNK_TOKEN = \"<unk>\"\n",
        "    PAD_TOKEN = \"<pad>\"    \n",
        "    SOS_TOKEN = \"<s>\"\n",
        "    EOS_TOKEN = \"</s>\"\n",
        "    LOWER = True\n",
        "    \n",
        "    # we include lengths to provide to the RNNs\n",
        "    SRC = data.Field(tokenize=tokenize_en, \n",
        "                     batch_first=True, lower=LOWER, include_lengths=True,\n",
        "                     unk_token=UNK_TOKEN, pad_token=PAD_TOKEN, init_token=None, eos_token=EOS_TOKEN)\n",
        "    TRG = data.Field(tokenize=tokenize_en, \n",
        "                     batch_first=True, lower=LOWER, include_lengths=True,\n",
        "                     unk_token=UNK_TOKEN, pad_token=PAD_TOKEN, init_token=SOS_TOKEN, eos_token=EOS_TOKEN)\n",
        "\n",
        "    #MAX_LEN = 25  # NOTE: we filter out a lot of sentences for speed\n",
        "    tv_datafields = [(\"src\", SRC), (\"trg\", TRG)]\n",
        "    train_data, valid_data, test_data = TabularDataset.splits(\n",
        "                  path=\"/content/drive/Shareddrives/ESE_546_Final_Project/\", # the root directory where the data lies\n",
        "                  train='CNN_train.csv', validation=\"CNN_val.csv\", test = \"CNN_test.csv\",\n",
        "                  format='csv',\n",
        "                  skip_header=True, # if your csv header has a header, make sure to pass this to ensure it doesn't get proceesed as data!\n",
        "                  fields=tv_datafields)\n",
        "\n",
        "    MIN_FREQ = 5  # NOTE: we limit the vocabulary to frequent words for speed\n",
        "    SRC.build_vocab(train_data.src, min_freq=MIN_FREQ)\n",
        "    TRG.build_vocab(train_data.trg, min_freq=MIN_FREQ)\n",
        "    \n",
        "    PAD_INDEX = TRG.vocab.stoi[PAD_TOKEN]"
      ],
      "execution_count": 20,
      "outputs": [
        {
          "output_type": "stream",
          "text": [
            "/usr/local/lib/python3.6/dist-packages/torchtext/data/field.py:150: UserWarning: Field class will be retired soon and moved to torchtext.legacy. Please see the most recent release notes for further information.\n",
            "  warnings.warn('{} class will be retired soon and moved to torchtext.legacy. Please see the most recent release notes for further information.'.format(self.__class__.__name__), UserWarning)\n",
            "/usr/local/lib/python3.6/dist-packages/torchtext/data/example.py:68: UserWarning: Example class will be retired soon and moved to torchtext.legacy. Please see the most recent release notes for further information.\n",
            "  warnings.warn('Example class will be retired soon and moved to torchtext.legacy. Please see the most recent release notes for further information.', UserWarning)\n",
            "/usr/local/lib/python3.6/dist-packages/torchtext/data/example.py:78: UserWarning: Example class will be retired soon and moved to torchtext.legacy. Please see the most recent release notes for further information.\n",
            "  warnings.warn('Example class will be retired soon and moved to torchtext.legacy. Please see the most recent release notes for further information.', UserWarning)\n"
          ],
          "name": "stderr"
        }
      ]
    },
    {
      "cell_type": "markdown",
      "metadata": {
        "id": "-M-T7ou1xoN0"
      },
      "source": [
        "### Let's look at the data\n",
        "\n",
        "It never hurts to look at your data and some statistics."
      ]
    },
    {
      "cell_type": "code",
      "metadata": {
        "colab": {
          "base_uri": "https://localhost:8080/"
        },
        "id": "nw0_VkD3xoN0",
        "outputId": "904bbf4d-41de-441f-8106-51831385f52e"
      },
      "source": [
        "def print_data_info(train_data, valid_data, test_data, src_field, trg_field):\n",
        "    \"\"\" This prints some useful stuff about our data sets. \"\"\"\n",
        "\n",
        "    print(\"Data set sizes (number of sentence pairs):\")\n",
        "    print('train', len(train_data))\n",
        "    print('valid', len(valid_data))\n",
        "    print('test', len(test_data), \"\\n\")\n",
        "\n",
        "    print(\"First training example:\")\n",
        "    print(\"src:\", \" \".join(vars(train_data[0])['src']))\n",
        "    print(\"trg:\", \" \".join(vars(train_data[0])['trg']), \"\\n\")\n",
        "\n",
        "    print(\"Most common words (src):\")\n",
        "    print(\"\\n\".join([\"%10s %10d\" % x for x in src_field.vocab.freqs.most_common(10)]), \"\\n\")\n",
        "    print(\"Most common words (trg):\")\n",
        "    print(\"\\n\".join([\"%10s %10d\" % x for x in trg_field.vocab.freqs.most_common(10)]), \"\\n\")\n",
        "\n",
        "    print(\"First 10 words (src):\")\n",
        "    print(\"\\n\".join(\n",
        "        '%02d %s' % (i, t) for i, t in enumerate(src_field.vocab.itos[:10])), \"\\n\")\n",
        "    print(\"First 10 words (trg):\")\n",
        "    print(\"\\n\".join(\n",
        "        '%02d %s' % (i, t) for i, t in enumerate(trg_field.vocab.itos[:10])), \"\\n\")\n",
        "\n",
        "    print(\"Number of Source words (types):\", len(src_field.vocab))\n",
        "    print(\"Number of Target words (types):\", len(trg_field.vocab), \"\\n\")\n",
        "    \n",
        "    \n",
        "print_data_info(train_data, valid_data, test_data, SRC, TRG)"
      ],
      "execution_count": 21,
      "outputs": [
        {
          "output_type": "stream",
          "text": [
            "Data set sizes (number of sentence pairs):\n",
            "train 56321\n",
            "valid 2222\n",
            "test 1849 \n",
            "\n",
            "First training example:\n",
            "src: ( cnn ) -- police arrested another teen thursday , the sixth suspect jailed in connection with the gang rape of a 15-year - old girl on a northern california high school campus . jose carlos montano , 18 , was arrested on charges of felony rape , rape in concert with force , and penetration with a foreign object , said richmond police lt . mark gagan . montano was arrested thursday evening in san pablo , california , a small town about two miles from the city of richmond , where the crime took place . montano , who was held in lieu of $ 1.3 million bail , is accused of taking part in what police said was a 2½-hour assault on the richmond high school campus . police said as many as 10 people were involved in the rape in a dimly lit back alley at the school , while another 10 people watched without calling 911 . the victim was taken to the hospital in critical condition , but was released wednesday . four other teenage suspects were arraigned thursday on charges connected to the rape . cody ray smith , described by the court as older than 14 , pleaded not guilty to charges of rape with a foreign object and rape by force . two other juveniles , ari abdallah morales and marcelles james peter , appeared with smith at the contra costa county superior court , but did not enter a plea . the court described morales as younger than 16 , and did not give an age for peter . all three juveniles , who wore bulletproof vests at the hearing , were charged as adults . a fourth person , manuel ortega , 19 , appeared separately without an attorney and did not enter a plea . he did not wear a protective vest . another person , salvador rodriguez , 21 , was arrested tuesday night , but he was not in court thursday .\n",
            "trg: another arrest made in gang rape outside california school . \n",
            " investigators say up to 20 people took part or stood and watched the assault . \n",
            " four suspects appeared in court thursday ; three wore bulletproof vests . \n",
            "\n",
            "Most common words (src):\n",
            "       the    1018745\n",
            "         .     901248\n",
            "         ,     742697\n",
            "        to     443384\n",
            "         a     425755\n",
            "        in     374641\n",
            "        of     364620\n",
            "       and     356161\n",
            "         -     198145\n",
            "         \"     170724 \n",
            "\n",
            "Most common words (trg):\n",
            "         .     181870\n",
            "         \n",
            "     132652\n",
            "       the     103122\n",
            "         ,      58997\n",
            "        in      58451\n",
            "        to      56141\n",
            "         a      48928\n",
            "        of      44375\n",
            "       and      36707\n",
            "         -      30813 \n",
            "\n",
            "First 10 words (src):\n",
            "00 <unk>\n",
            "01 <pad>\n",
            "02 </s>\n",
            "03 the\n",
            "04 .\n",
            "05 ,\n",
            "06 to\n",
            "07 a\n",
            "08 in\n",
            "09 of \n",
            "\n",
            "First 10 words (trg):\n",
            "00 <unk>\n",
            "01 <pad>\n",
            "02 <s>\n",
            "03 </s>\n",
            "04 .\n",
            "05 \n",
            "\n",
            "06 the\n",
            "07 ,\n",
            "08 in\n",
            "09 to \n",
            "\n",
            "Number of Source words (types): 61083\n",
            "Number of Target words (types): 22080 \n",
            "\n"
          ],
          "name": "stdout"
        }
      ]
    },
    {
      "cell_type": "markdown",
      "metadata": {
        "id": "ZA6Q_mIvxoN0"
      },
      "source": [
        "## Iterators\n",
        "Batching matters a ton for speed. We will use torch text's BucketIterator here to get batches containing sentences of (almost) the same length.\n",
        "\n",
        "#### Note on sorting batches for RNNs in PyTorch\n",
        "\n",
        "For effiency reasons, PyTorch RNNs require that batches have been sorted by length, with the longest sentence in the batch first. For training, we simply sort each batch. \n",
        "For validation, we would run into trouble if we want to compare our translations with some external file that was not sorted. Therefore we simply set the validation batch size to 1, so that we can keep it in the original order."
      ]
    },
    {
      "cell_type": "code",
      "metadata": {
        "id": "H2szhJZmxoN0",
        "colab": {
          "base_uri": "https://localhost:8080/"
        },
        "outputId": "55575766-d6d9-44af-a91c-142473c1bc0b"
      },
      "source": [
        "train_iter = data.BucketIterator(train_data, batch_size=16, train=True, \n",
        "                                 sort_within_batch=True, \n",
        "                                 sort_key=lambda x: (len(x.src), len(x.trg)), repeat=False,\n",
        "                                 device=DEVICE)\n",
        "valid_iter = data.Iterator(valid_data, batch_size=1, train=False, sort=False, repeat=False, \n",
        "                           device=DEVICE)\n",
        "test_iter = data.BucketIterator(test_data, batch_size=1, train=False, sort=False, repeat=False,\n",
        "                                device=DEVICE)\n",
        "\n",
        "\n",
        "def rebatch(pad_idx, batch):\n",
        "    \"\"\"Wrap torchtext batch into our own Batch class for pre-processing\"\"\"\n",
        "    return Batch(batch.src, batch.trg, pad_idx)"
      ],
      "execution_count": 22,
      "outputs": [
        {
          "output_type": "stream",
          "text": [
            "/usr/local/lib/python3.6/dist-packages/torchtext/data/iterator.py:48: UserWarning: BucketIterator class will be retired soon and moved to torchtext.legacy. Please see the most recent release notes for further information.\n",
            "  warnings.warn('{} class will be retired soon and moved to torchtext.legacy. Please see the most recent release notes for further information.'.format(self.__class__.__name__), UserWarning)\n",
            "/usr/local/lib/python3.6/dist-packages/torchtext/data/iterator.py:48: UserWarning: Iterator class will be retired soon and moved to torchtext.legacy. Please see the most recent release notes for further information.\n",
            "  warnings.warn('{} class will be retired soon and moved to torchtext.legacy. Please see the most recent release notes for further information.'.format(self.__class__.__name__), UserWarning)\n"
          ],
          "name": "stderr"
        }
      ]
    },
    {
      "cell_type": "markdown",
      "metadata": {
        "id": "4wXvjPNRxoN0"
      },
      "source": [
        "## Training the System\n",
        "\n",
        "Now we train the model. \n",
        "\n",
        "On a Titan X GPU, this runs at ~18,000 tokens per second with a batch size of 64."
      ]
    },
    {
      "cell_type": "code",
      "metadata": {
        "id": "c4lQCS8CxoN0"
      },
      "source": [
        "#RUN THIS ONE#\n",
        "def train(model, num_epochs=50, lr=0.0003, print_every=100):\n",
        "    \"\"\"Train a model on IWSLT\"\"\"\n",
        "    \n",
        "    if USE_CUDA:\n",
        "        model.cuda()\n",
        "\n",
        "    # optionally add label smoothing\n",
        "    #criterion = nn.NLLLoss(reduction=\"sum\", ignore_index=PAD_INDEX)\n",
        "    criterion = LabelSmoothing(size=len(TRG.vocab), padding_idx=PAD_INDEX, smoothing=0.1)\n",
        "    criterion.cuda()\n",
        "    optim = torch.optim.Adam(model.parameters(), lr=lr)\n",
        "    \n",
        "    dev_perplexities = []\n",
        "    lr_list=[]\n",
        "\n",
        "    for epoch in range(num_epochs):\n",
        "      \n",
        "        print(\"Epoch\", epoch)\n",
        "        model.train()\n",
        "        train_perplexity = run_epoch((rebatch(PAD_INDEX, b) for b in train_iter), \n",
        "                                     model,\n",
        "                                     SimpleLossCompute(model.generator, criterion, optim),\n",
        "                                     print_every=print_every)\n",
        "        \n",
        "        model.eval()\n",
        "        with torch.no_grad():\n",
        "            print_examples((rebatch(PAD_INDEX, x) for x in valid_iter), \n",
        "                           model, n=3, src_vocab=SRC.vocab, trg_vocab=TRG.vocab)        \n",
        "\n",
        "            dev_perplexity = run_epoch((rebatch(PAD_INDEX, b) for b in valid_iter), \n",
        "                                       model, \n",
        "                                       SimpleLossCompute(model.generator, criterion, None))\n",
        "            print(\"Validation perplexity: %f\" % dev_perplexity)\n",
        "            dev_perplexities.append(dev_perplexity)\n",
        "\n",
        "    return dev_perplexities,lr_list"
      ],
      "execution_count": 23,
      "outputs": []
    },
    {
      "cell_type": "code",
      "metadata": {
        "colab": {
          "base_uri": "https://localhost:8080/"
        },
        "id": "_uByLrtcLwWp",
        "outputId": "b6621699-585a-4226-ecf4-5c61d2157c9b"
      },
      "source": [
        "import torch.optim as optim\n",
        "from torch.optim.lr_scheduler import StepLR\n",
        "\n",
        "\n",
        "model = make_model(len(SRC.vocab), len(TRG.vocab),\n",
        "                   emb_size=256, hidden_size=256,\n",
        "                   num_layers=2, dropout=0.2)\n",
        "dev_perplexities, lr_list = train(model, print_every=500, num_epochs=7)"
      ],
      "execution_count": null,
      "outputs": [
        {
          "output_type": "stream",
          "text": [
            "/usr/local/lib/python3.6/dist-packages/torch/nn/_reduction.py:44: UserWarning: size_average and reduce args will be deprecated, please use reduction='sum' instead.\n",
            "  warnings.warn(warning.format(ret))\n"
          ],
          "name": "stderr"
        },
        {
          "output_type": "stream",
          "text": [
            "Epoch 0\n",
            "Epoch Step: 500 Loss: 290.301147 Tokens per Sec: 3298.560139\n",
            "Epoch Step: 1000 Loss: 253.781586 Tokens per Sec: 3297.059396\n",
            "Epoch Step: 1500 Loss: 236.233368 Tokens per Sec: 3339.610301\n",
            "Epoch Step: 2000 Loss: 212.931931 Tokens per Sec: 3305.293211\n",
            "Epoch Step: 2500 Loss: 254.945312 Tokens per Sec: 3300.330781\n",
            "Epoch Step: 3000 Loss: 193.780823 Tokens per Sec: 3257.696823\n",
            "Epoch Step: 3500 Loss: 195.508759 Tokens per Sec: 3248.061550\n",
            "\n",
            "Example #1\n",
            "Src :  ( <unk> - songwriter david crosby hit a jogger with his car sunday evening , a spokesman said . the accident happened in santa <unk> , california , near where crosby lives . crosby was driving at approximately 50 mph when he struck the jogger , according to california highway patrol spokesman don <unk> . the posted speed limit was 55 . the jogger suffered multiple fractures , and was airlifted to a hospital in santa barbara , <unk> said . his injuries are not believed to be life threatening . \" mr. crosby was cooperative with authorities and he was not impaired or intoxicated in any way . mr. crosby did not see the jogger because of the sun , \" said <unk> . according to the spokesman , the jogger and crosby were on the same side of the road . pedestrians are supposed to be on the left side of the road walking toward traffic , <unk> said . joggers are considered pedestrians . crosby is known for weaving <unk> <unk> over sweet melodies . he belongs to the celebrated rock group crosby , stills & nash . \" david crosby is obviously very upset that he accidentally hit anyone . and , based off of initial reports , he is relieved that the injuries to the gentleman were not life threatening , \" said michael jensen , a crosby spokesman . \" he wishes the jogger a very speedy recovery . \"\n",
            "Trg :  accident happens in santa <unk> , california , near where crosby lives . \n",
            " the jogger suffered multiple fractures ; his injuries are not believed to be life - threatening .\n",
            "Pred:  <unk> <unk> , 19 , was shot in a hospital in a <unk> , california , and a <unk> . \n",
            " the <unk> was shot in the <unk> , which was a <unk> <unk> . \n",
            " the <unk> was taken to the hospital in the <unk> , which was a <unk> .\n",
            "\n",
            "Example #2\n",
            "Src :  ( cnn)if you have n't yet been asked by friends or co - workers to meerkat , chances are you will soon . the <unk> app took austin by storm last week , with media outlets -- including cnnmoney -- calling it \" the new sxsw sweetheart , \" \" the coolest cat \" and the festival 's \" big star . \" the san francisco - based startup launched february 27 and has been adding users rapidly ever since . even jimmy fallon is streaming his life using meerkat . as part of our instant startups series ( see the videos above ) , cnnmoney correspondent laurie segall reached out to meerkat founder ben rubin with some questions . and he agreed to answer them -- on meerkat , of course . what questions do you have about the app , sxsw or entrepreneurship ? do you dream of launching your own startup ? now is your chance to ask the experts how . leave your questions in the comments below or ask them directly on meerkat or twitter at 2 p.m. et wednesday . what : live chat with meerkat 's rubin . when : wednesday , from 2 to 2:45 p.m. et . where : on meerkat and twitter . follow on meerkat : <unk> and <unk> . follow on twitter : @cnntech . hashtag : # <unk> . hope to see you there !\n",
            "Trg :  join <unk> founder ben rubin for a live chat at 2 p.m. et wednesday . \n",
            " follow <unk> and <unk> on <unk> . \n",
            " use hashtag # <unk> to join the conversation on twitter .\n",
            "Pred:  the <unk> \" <unk> \" is the first - year - old \" <unk> \" \n",
            " the <unk> <unk> <unk> <unk> <unk> <unk> <unk> <unk> . \n",
            " the <unk> is the first - year - year - old <unk> <unk> <unk> <unk> .\n",
            "\n",
            "Example #3\n",
            "Src :  ( cnn)a british military health care worker in sierra leone has tested positive for ebola , a uk health agency said . medical experts are assessing what to do next , including whether or not the evacuate the infected individual to the united kingdom for treatment , according to a public health england spokesperson . an ebola outbreak has devastated parts of west africa , with sierra leone , guinea and liberia being the hardest hit nations . the vast majority of the more than 24,000 confirmed , <unk> and suspected cases , as well as the nearly 10,000 reported deaths , have been in those three countries , the world health organization reports . in some cases , citizens of other nations have come down with the deadly disease while working there -- as , apparently , is true for the uk military heath care worker whose diagnosis was announced wednesday . authorities are investigating how this person was exposed to the virus and tracing individuals in recent contact with the diagnosed worker , said the public health england spokesperson . \" any individuals identified as having had close contact will be assessed and a clinical decision made regarding bringing them to the uk , \" the spokesperson said . pauline cafferkey , the first person diagnosed with ebola in the united kingdom , was discharged from london 's royal free hospital in january after battling the virus . she is a public health nurse in scotland 's south lanarkshire area who was part of a 30-strong team of medical volunteers deployed to west africa by the uk government last month in a joint endeavor with save the children , according to british media outlets .\n",
            "Trg :  spokesperson : experts are investigating how the uk military health care worker got ebola . \n",
            " it is being decided if the military worker infected in sierra leone will return to england . \n",
            " there have been some 24,000 reported cases and 10,000 deaths in the latest ebola outbreak .\n",
            "Pred:  the government is a <unk> of the <unk> <unk> . \n",
            " the government is the first time of the <unk> <unk> . \n",
            " the government is the latest of the <unk> <unk> .\n",
            "\n",
            "Validation perplexity: 62.552703\n",
            "Epoch 1\n",
            "Epoch Step: 500 Loss: 230.461182 Tokens per Sec: 3271.462578\n",
            "Epoch Step: 1000 Loss: 215.674805 Tokens per Sec: 3343.339877\n",
            "Epoch Step: 1500 Loss: 181.774719 Tokens per Sec: 3306.342014\n",
            "Epoch Step: 2000 Loss: 160.883728 Tokens per Sec: 3284.893177\n",
            "Epoch Step: 2500 Loss: 223.928055 Tokens per Sec: 3258.967176\n",
            "Epoch Step: 3000 Loss: 218.788025 Tokens per Sec: 3300.439957\n",
            "Epoch Step: 3500 Loss: 184.742950 Tokens per Sec: 3329.112061\n",
            "\n",
            "Example #1\n",
            "Src :  ( <unk> - songwriter david crosby hit a jogger with his car sunday evening , a spokesman said . the accident happened in santa <unk> , california , near where crosby lives . crosby was driving at approximately 50 mph when he struck the jogger , according to california highway patrol spokesman don <unk> . the posted speed limit was 55 . the jogger suffered multiple fractures , and was airlifted to a hospital in santa barbara , <unk> said . his injuries are not believed to be life threatening . \" mr. crosby was cooperative with authorities and he was not impaired or intoxicated in any way . mr. crosby did not see the jogger because of the sun , \" said <unk> . according to the spokesman , the jogger and crosby were on the same side of the road . pedestrians are supposed to be on the left side of the road walking toward traffic , <unk> said . joggers are considered pedestrians . crosby is known for weaving <unk> <unk> over sweet melodies . he belongs to the celebrated rock group crosby , stills & nash . \" david crosby is obviously very upset that he accidentally hit anyone . and , based off of initial reports , he is relieved that the injuries to the gentleman were not life threatening , \" said michael jensen , a crosby spokesman . \" he wishes the jogger a very speedy recovery . \"\n",
            "Trg :  accident happens in santa <unk> , california , near where crosby lives . \n",
            " the jogger suffered multiple fractures ; his injuries are not believed to be life - threatening .\n",
            "Pred:  the crash was found in a <unk> , california , says . \n",
            " the accident happened in the <unk> county , california . \n",
            " the man was taken to hospital in hospital , but says .\n",
            "\n",
            "Example #2\n",
            "Src :  ( cnn)if you have n't yet been asked by friends or co - workers to meerkat , chances are you will soon . the <unk> app took austin by storm last week , with media outlets -- including cnnmoney -- calling it \" the new sxsw sweetheart , \" \" the coolest cat \" and the festival 's \" big star . \" the san francisco - based startup launched february 27 and has been adding users rapidly ever since . even jimmy fallon is streaming his life using meerkat . as part of our instant startups series ( see the videos above ) , cnnmoney correspondent laurie segall reached out to meerkat founder ben rubin with some questions . and he agreed to answer them -- on meerkat , of course . what questions do you have about the app , sxsw or entrepreneurship ? do you dream of launching your own startup ? now is your chance to ask the experts how . leave your questions in the comments below or ask them directly on meerkat or twitter at 2 p.m. et wednesday . what : live chat with meerkat 's rubin . when : wednesday , from 2 to 2:45 p.m. et . where : on meerkat and twitter . follow on meerkat : <unk> and <unk> . follow on twitter : @cnntech . hashtag : # <unk> . hope to see you there !\n",
            "Trg :  join <unk> founder ben rubin for a live chat at 2 p.m. et wednesday . \n",
            " follow <unk> and <unk> on <unk> . \n",
            " use hashtag # <unk> to join the conversation on twitter .\n",
            "Pred:  the <unk> - based company is the first \" <unk> \" \n",
            " the <unk> - old <unk> is the first \" <unk> \" \n",
            " the movie is the first - old <unk> .\n",
            "\n",
            "Example #3\n",
            "Src :  ( cnn)a british military health care worker in sierra leone has tested positive for ebola , a uk health agency said . medical experts are assessing what to do next , including whether or not the evacuate the infected individual to the united kingdom for treatment , according to a public health england spokesperson . an ebola outbreak has devastated parts of west africa , with sierra leone , guinea and liberia being the hardest hit nations . the vast majority of the more than 24,000 confirmed , <unk> and suspected cases , as well as the nearly 10,000 reported deaths , have been in those three countries , the world health organization reports . in some cases , citizens of other nations have come down with the deadly disease while working there -- as , apparently , is true for the uk military heath care worker whose diagnosis was announced wednesday . authorities are investigating how this person was exposed to the virus and tracing individuals in recent contact with the diagnosed worker , said the public health england spokesperson . \" any individuals identified as having had close contact will be assessed and a clinical decision made regarding bringing them to the uk , \" the spokesperson said . pauline cafferkey , the first person diagnosed with ebola in the united kingdom , was discharged from london 's royal free hospital in january after battling the virus . she is a public health nurse in scotland 's south lanarkshire area who was part of a 30-strong team of medical volunteers deployed to west africa by the uk government last month in a joint endeavor with save the children , according to british media outlets .\n",
            "Trg :  spokesperson : experts are investigating how the uk military health care worker got ebola . \n",
            " it is being decided if the military worker infected in sierra leone will return to england . \n",
            " there have been some 24,000 reported cases and 10,000 deaths in the latest ebola outbreak .\n",
            "Pred:  the outbreak of the <unk> is the most expensive <unk> . \n",
            " the outbreak of the most expensive is the most expensive . \n",
            " the outbreak is the first time since the outbreak is the subject .\n",
            "\n",
            "Validation perplexity: 43.551999\n",
            "Epoch 2\n",
            "Epoch Step: 500 Loss: 163.780777 Tokens per Sec: 3349.351286\n",
            "Epoch Step: 1000 Loss: 205.581848 Tokens per Sec: 3291.499013\n",
            "Epoch Step: 1500 Loss: 202.007416 Tokens per Sec: 3255.215209\n",
            "Epoch Step: 2000 Loss: 205.158829 Tokens per Sec: 3324.667894\n",
            "Epoch Step: 2500 Loss: 158.803467 Tokens per Sec: 3312.990142\n",
            "Epoch Step: 3000 Loss: 200.841949 Tokens per Sec: 3270.461497\n",
            "Epoch Step: 3500 Loss: 198.235626 Tokens per Sec: 3251.742771\n",
            "\n",
            "Example #1\n",
            "Src :  ( <unk> - songwriter david crosby hit a jogger with his car sunday evening , a spokesman said . the accident happened in santa <unk> , california , near where crosby lives . crosby was driving at approximately 50 mph when he struck the jogger , according to california highway patrol spokesman don <unk> . the posted speed limit was 55 . the jogger suffered multiple fractures , and was airlifted to a hospital in santa barbara , <unk> said . his injuries are not believed to be life threatening . \" mr. crosby was cooperative with authorities and he was not impaired or intoxicated in any way . mr. crosby did not see the jogger because of the sun , \" said <unk> . according to the spokesman , the jogger and crosby were on the same side of the road . pedestrians are supposed to be on the left side of the road walking toward traffic , <unk> said . joggers are considered pedestrians . crosby is known for weaving <unk> <unk> over sweet melodies . he belongs to the celebrated rock group crosby , stills & nash . \" david crosby is obviously very upset that he accidentally hit anyone . and , based off of initial reports , he is relieved that the injuries to the gentleman were not life threatening , \" said michael jensen , a crosby spokesman . \" he wishes the jogger a very speedy recovery . \"\n",
            "Trg :  accident happens in santa <unk> , california , near where crosby lives . \n",
            " the jogger suffered multiple fractures ; his injuries are not believed to be life - threatening .\n",
            "Pred:  new : the accident happened in the <unk> , california . \n",
            " the accident happened in the <unk> , california , near the <unk> . \n",
            " the accident happened in the <unk> , the <unk> .\n",
            "\n",
            "Example #2\n",
            "Src :  ( cnn)if you have n't yet been asked by friends or co - workers to meerkat , chances are you will soon . the <unk> app took austin by storm last week , with media outlets -- including cnnmoney -- calling it \" the new sxsw sweetheart , \" \" the coolest cat \" and the festival 's \" big star . \" the san francisco - based startup launched february 27 and has been adding users rapidly ever since . even jimmy fallon is streaming his life using meerkat . as part of our instant startups series ( see the videos above ) , cnnmoney correspondent laurie segall reached out to meerkat founder ben rubin with some questions . and he agreed to answer them -- on meerkat , of course . what questions do you have about the app , sxsw or entrepreneurship ? do you dream of launching your own startup ? now is your chance to ask the experts how . leave your questions in the comments below or ask them directly on meerkat or twitter at 2 p.m. et wednesday . what : live chat with meerkat 's rubin . when : wednesday , from 2 to 2:45 p.m. et . where : on meerkat and twitter . follow on meerkat : <unk> and <unk> . follow on twitter : @cnntech . hashtag : # <unk> . hope to see you there !\n",
            "Trg :  join <unk> founder ben rubin for a live chat at 2 p.m. et wednesday . \n",
            " follow <unk> and <unk> on <unk> . \n",
            " use hashtag # <unk> to join the conversation on twitter .\n",
            "Pred:  the new york city - based hotel will be released on thursday . \n",
            " the <unk> - based company has been released by the new york . \n",
            " the <unk> - based company has been released by the <unk> .\n",
            "\n",
            "Example #3\n",
            "Src :  ( cnn)a british military health care worker in sierra leone has tested positive for ebola , a uk health agency said . medical experts are assessing what to do next , including whether or not the evacuate the infected individual to the united kingdom for treatment , according to a public health england spokesperson . an ebola outbreak has devastated parts of west africa , with sierra leone , guinea and liberia being the hardest hit nations . the vast majority of the more than 24,000 confirmed , <unk> and suspected cases , as well as the nearly 10,000 reported deaths , have been in those three countries , the world health organization reports . in some cases , citizens of other nations have come down with the deadly disease while working there -- as , apparently , is true for the uk military heath care worker whose diagnosis was announced wednesday . authorities are investigating how this person was exposed to the virus and tracing individuals in recent contact with the diagnosed worker , said the public health england spokesperson . \" any individuals identified as having had close contact will be assessed and a clinical decision made regarding bringing them to the uk , \" the spokesperson said . pauline cafferkey , the first person diagnosed with ebola in the united kingdom , was discharged from london 's royal free hospital in january after battling the virus . she is a public health nurse in scotland 's south lanarkshire area who was part of a 30-strong team of medical volunteers deployed to west africa by the uk government last month in a joint endeavor with save the children , according to british media outlets .\n",
            "Trg :  spokesperson : experts are investigating how the uk military health care worker got ebola . \n",
            " it is being decided if the military worker infected in sierra leone will return to england . \n",
            " there have been some 24,000 reported cases and 10,000 deaths in the latest ebola outbreak .\n",
            "Pred:  ebola outbreak of health problems , which is in the uk , the cdc says . \n",
            " the outbreak of the <unk> has been linked with the virus . \n",
            " the cause of the deaths is in the area .\n",
            "\n",
            "Validation perplexity: 32.866399\n",
            "Epoch 3\n",
            "Epoch Step: 500 Loss: 183.632599 Tokens per Sec: 3294.809837\n",
            "Epoch Step: 1000 Loss: 189.337250 Tokens per Sec: 3315.039377\n",
            "Epoch Step: 1500 Loss: 164.839813 Tokens per Sec: 3285.851726\n",
            "Epoch Step: 2000 Loss: 193.930939 Tokens per Sec: 3296.205503\n",
            "Epoch Step: 2500 Loss: 189.045868 Tokens per Sec: 3298.815519\n",
            "Epoch Step: 3000 Loss: 163.839142 Tokens per Sec: 3277.021728\n",
            "Epoch Step: 3500 Loss: 173.171753 Tokens per Sec: 3303.257907\n",
            "\n",
            "Example #1\n",
            "Src :  ( <unk> - songwriter david crosby hit a jogger with his car sunday evening , a spokesman said . the accident happened in santa <unk> , california , near where crosby lives . crosby was driving at approximately 50 mph when he struck the jogger , according to california highway patrol spokesman don <unk> . the posted speed limit was 55 . the jogger suffered multiple fractures , and was airlifted to a hospital in santa barbara , <unk> said . his injuries are not believed to be life threatening . \" mr. crosby was cooperative with authorities and he was not impaired or intoxicated in any way . mr. crosby did not see the jogger because of the sun , \" said <unk> . according to the spokesman , the jogger and crosby were on the same side of the road . pedestrians are supposed to be on the left side of the road walking toward traffic , <unk> said . joggers are considered pedestrians . crosby is known for weaving <unk> <unk> over sweet melodies . he belongs to the celebrated rock group crosby , stills & nash . \" david crosby is obviously very upset that he accidentally hit anyone . and , based off of initial reports , he is relieved that the injuries to the gentleman were not life threatening , \" said michael jensen , a crosby spokesman . \" he wishes the jogger a very speedy recovery . \"\n",
            "Trg :  accident happens in santa <unk> , california , near where crosby lives . \n",
            " the jogger suffered multiple fractures ; his injuries are not believed to be life - threatening .\n",
            "Pred:  the accident happened in santa <unk> , california , near tampa . \n",
            " the accident happened in <unk> , california , near tampa , california . \n",
            " the cause of the accident happened in the <unk> river .\n",
            "\n",
            "Example #2\n",
            "Src :  ( cnn)if you have n't yet been asked by friends or co - workers to meerkat , chances are you will soon . the <unk> app took austin by storm last week , with media outlets -- including cnnmoney -- calling it \" the new sxsw sweetheart , \" \" the coolest cat \" and the festival 's \" big star . \" the san francisco - based startup launched february 27 and has been adding users rapidly ever since . even jimmy fallon is streaming his life using meerkat . as part of our instant startups series ( see the videos above ) , cnnmoney correspondent laurie segall reached out to meerkat founder ben rubin with some questions . and he agreed to answer them -- on meerkat , of course . what questions do you have about the app , sxsw or entrepreneurship ? do you dream of launching your own startup ? now is your chance to ask the experts how . leave your questions in the comments below or ask them directly on meerkat or twitter at 2 p.m. et wednesday . what : live chat with meerkat 's rubin . when : wednesday , from 2 to 2:45 p.m. et . where : on meerkat and twitter . follow on meerkat : <unk> and <unk> . follow on twitter : @cnntech . hashtag : # <unk> . hope to see you there !\n",
            "Trg :  join <unk> founder ben rubin for a live chat at 2 p.m. et wednesday . \n",
            " follow <unk> and <unk> on <unk> . \n",
            " use hashtag # <unk> to join the conversation on twitter .\n",
            "Pred:  the <unk> app is the first - <unk> <unk> <unk> . \n",
            " the <unk> - old <unk> <unk> has been released on the <unk> . \n",
            " the <unk> - based <unk> has also been released on the <unk> .\n",
            "\n",
            "Example #3\n",
            "Src :  ( cnn)a british military health care worker in sierra leone has tested positive for ebola , a uk health agency said . medical experts are assessing what to do next , including whether or not the evacuate the infected individual to the united kingdom for treatment , according to a public health england spokesperson . an ebola outbreak has devastated parts of west africa , with sierra leone , guinea and liberia being the hardest hit nations . the vast majority of the more than 24,000 confirmed , <unk> and suspected cases , as well as the nearly 10,000 reported deaths , have been in those three countries , the world health organization reports . in some cases , citizens of other nations have come down with the deadly disease while working there -- as , apparently , is true for the uk military heath care worker whose diagnosis was announced wednesday . authorities are investigating how this person was exposed to the virus and tracing individuals in recent contact with the diagnosed worker , said the public health england spokesperson . \" any individuals identified as having had close contact will be assessed and a clinical decision made regarding bringing them to the uk , \" the spokesperson said . pauline cafferkey , the first person diagnosed with ebola in the united kingdom , was discharged from london 's royal free hospital in january after battling the virus . she is a public health nurse in scotland 's south lanarkshire area who was part of a 30-strong team of medical volunteers deployed to west africa by the uk government last month in a joint endeavor with save the children , according to british media outlets .\n",
            "Trg :  spokesperson : experts are investigating how the uk military health care worker got ebola . \n",
            " it is being decided if the military worker infected in sierra leone will return to england . \n",
            " there have been some 24,000 reported cases and 10,000 deaths in the latest ebola outbreak .\n",
            "Pred:  health officials say there is not to be contaminated . \n",
            " the outbreak of the more than <unk> has been in three countries . \n",
            " the <unk> health minister says the cause of the <unk> is not to be contaminated .\n",
            "\n",
            "Validation perplexity: 26.912889\n",
            "Epoch 4\n",
            "Epoch Step: 500 Loss: 117.221237 Tokens per Sec: 3321.899917\n",
            "Epoch Step: 1000 Loss: 181.790085 Tokens per Sec: 3288.745649\n",
            "Epoch Step: 1500 Loss: 124.023483 Tokens per Sec: 3216.785290\n",
            "Epoch Step: 2000 Loss: 168.893967 Tokens per Sec: 3332.794460\n",
            "Epoch Step: 2500 Loss: 170.857773 Tokens per Sec: 3278.721278\n",
            "Epoch Step: 3000 Loss: 173.701920 Tokens per Sec: 3283.219188\n",
            "Epoch Step: 3500 Loss: 179.136398 Tokens per Sec: 3349.480150\n",
            "\n",
            "Example #1\n",
            "Src :  ( <unk> - songwriter david crosby hit a jogger with his car sunday evening , a spokesman said . the accident happened in santa <unk> , california , near where crosby lives . crosby was driving at approximately 50 mph when he struck the jogger , according to california highway patrol spokesman don <unk> . the posted speed limit was 55 . the jogger suffered multiple fractures , and was airlifted to a hospital in santa barbara , <unk> said . his injuries are not believed to be life threatening . \" mr. crosby was cooperative with authorities and he was not impaired or intoxicated in any way . mr. crosby did not see the jogger because of the sun , \" said <unk> . according to the spokesman , the jogger and crosby were on the same side of the road . pedestrians are supposed to be on the left side of the road walking toward traffic , <unk> said . joggers are considered pedestrians . crosby is known for weaving <unk> <unk> over sweet melodies . he belongs to the celebrated rock group crosby , stills & nash . \" david crosby is obviously very upset that he accidentally hit anyone . and , based off of initial reports , he is relieved that the injuries to the gentleman were not life threatening , \" said michael jensen , a crosby spokesman . \" he wishes the jogger a very speedy recovery . \"\n",
            "Trg :  accident happens in santa <unk> , california , near where crosby lives . \n",
            " the jogger suffered multiple fractures ; his injuries are not believed to be life - threatening .\n",
            "Pred:  the accident happened in santa <unk> , california , near the border . \n",
            " he was struck at 50 mph when he struck the austin . \n",
            " the accident happened in santa <unk> , california , near the border .\n",
            "\n",
            "Example #2\n",
            "Src :  ( cnn)if you have n't yet been asked by friends or co - workers to meerkat , chances are you will soon . the <unk> app took austin by storm last week , with media outlets -- including cnnmoney -- calling it \" the new sxsw sweetheart , \" \" the coolest cat \" and the festival 's \" big star . \" the san francisco - based startup launched february 27 and has been adding users rapidly ever since . even jimmy fallon is streaming his life using meerkat . as part of our instant startups series ( see the videos above ) , cnnmoney correspondent laurie segall reached out to meerkat founder ben rubin with some questions . and he agreed to answer them -- on meerkat , of course . what questions do you have about the app , sxsw or entrepreneurship ? do you dream of launching your own startup ? now is your chance to ask the experts how . leave your questions in the comments below or ask them directly on meerkat or twitter at 2 p.m. et wednesday . what : live chat with meerkat 's rubin . when : wednesday , from 2 to 2:45 p.m. et . where : on meerkat and twitter . follow on meerkat : <unk> and <unk> . follow on twitter : @cnntech . hashtag : # <unk> . hope to see you there !\n",
            "Trg :  join <unk> founder ben rubin for a live chat at 2 p.m. et wednesday . \n",
            " follow <unk> and <unk> on <unk> . \n",
            " use hashtag # <unk> to join the conversation on twitter .\n",
            "Pred:  the new app is the first - <unk> <unk> . \n",
            " the <unk> - <unk> has launched its <unk> <unk> . \n",
            " the <unk> - based system launched the series of the series .\n",
            "\n",
            "Example #3\n",
            "Src :  ( cnn)a british military health care worker in sierra leone has tested positive for ebola , a uk health agency said . medical experts are assessing what to do next , including whether or not the evacuate the infected individual to the united kingdom for treatment , according to a public health england spokesperson . an ebola outbreak has devastated parts of west africa , with sierra leone , guinea and liberia being the hardest hit nations . the vast majority of the more than 24,000 confirmed , <unk> and suspected cases , as well as the nearly 10,000 reported deaths , have been in those three countries , the world health organization reports . in some cases , citizens of other nations have come down with the deadly disease while working there -- as , apparently , is true for the uk military heath care worker whose diagnosis was announced wednesday . authorities are investigating how this person was exposed to the virus and tracing individuals in recent contact with the diagnosed worker , said the public health england spokesperson . \" any individuals identified as having had close contact will be assessed and a clinical decision made regarding bringing them to the uk , \" the spokesperson said . pauline cafferkey , the first person diagnosed with ebola in the united kingdom , was discharged from london 's royal free hospital in january after battling the virus . she is a public health nurse in scotland 's south lanarkshire area who was part of a 30-strong team of medical volunteers deployed to west africa by the uk government last month in a joint endeavor with save the children , according to british media outlets .\n",
            "Trg :  spokesperson : experts are investigating how the uk military health care worker got ebola . \n",
            " it is being decided if the military worker infected in sierra leone will return to england . \n",
            " there have been some 24,000 reported cases and 10,000 deaths in the latest ebola outbreak .\n",
            "Pred:  ebola outbreak are in the uk , but health officials say . \n",
            " the outbreak of the more <unk> have been displaced . \n",
            " the outbreak of the more <unk> have been displaced .\n",
            "\n",
            "Validation perplexity: 23.783876\n",
            "Epoch 5\n",
            "Epoch Step: 500 Loss: 195.336700 Tokens per Sec: 3309.625776\n",
            "Epoch Step: 1000 Loss: 146.793671 Tokens per Sec: 3325.330772\n",
            "Epoch Step: 1500 Loss: 124.794312 Tokens per Sec: 3260.678758\n",
            "Epoch Step: 2000 Loss: 142.097763 Tokens per Sec: 3312.804188\n",
            "Epoch Step: 2500 Loss: 161.772278 Tokens per Sec: 3318.784197\n",
            "Epoch Step: 3000 Loss: 165.968201 Tokens per Sec: 3275.044704\n",
            "Epoch Step: 3500 Loss: 162.156219 Tokens per Sec: 3310.141290\n",
            "\n",
            "Example #1\n",
            "Src :  ( <unk> - songwriter david crosby hit a jogger with his car sunday evening , a spokesman said . the accident happened in santa <unk> , california , near where crosby lives . crosby was driving at approximately 50 mph when he struck the jogger , according to california highway patrol spokesman don <unk> . the posted speed limit was 55 . the jogger suffered multiple fractures , and was airlifted to a hospital in santa barbara , <unk> said . his injuries are not believed to be life threatening . \" mr. crosby was cooperative with authorities and he was not impaired or intoxicated in any way . mr. crosby did not see the jogger because of the sun , \" said <unk> . according to the spokesman , the jogger and crosby were on the same side of the road . pedestrians are supposed to be on the left side of the road walking toward traffic , <unk> said . joggers are considered pedestrians . crosby is known for weaving <unk> <unk> over sweet melodies . he belongs to the celebrated rock group crosby , stills & nash . \" david crosby is obviously very upset that he accidentally hit anyone . and , based off of initial reports , he is relieved that the injuries to the gentleman were not life threatening , \" said michael jensen , a crosby spokesman . \" he wishes the jogger a very speedy recovery . \"\n",
            "Trg :  accident happens in santa <unk> , california , near where crosby lives . \n",
            " the jogger suffered multiple fractures ; his injuries are not believed to be life - threatening .\n",
            "Pred:  david <unk> hit a tree with his car sunday . \n",
            " the accident happened on santa <unk> when he struck the austin . \n",
            " the man was taken to a hospital in santa barbara , <unk> says .\n",
            "\n",
            "Example #2\n",
            "Src :  ( cnn)if you have n't yet been asked by friends or co - workers to meerkat , chances are you will soon . the <unk> app took austin by storm last week , with media outlets -- including cnnmoney -- calling it \" the new sxsw sweetheart , \" \" the coolest cat \" and the festival 's \" big star . \" the san francisco - based startup launched february 27 and has been adding users rapidly ever since . even jimmy fallon is streaming his life using meerkat . as part of our instant startups series ( see the videos above ) , cnnmoney correspondent laurie segall reached out to meerkat founder ben rubin with some questions . and he agreed to answer them -- on meerkat , of course . what questions do you have about the app , sxsw or entrepreneurship ? do you dream of launching your own startup ? now is your chance to ask the experts how . leave your questions in the comments below or ask them directly on meerkat or twitter at 2 p.m. et wednesday . what : live chat with meerkat 's rubin . when : wednesday , from 2 to 2:45 p.m. et . where : on meerkat and twitter . follow on meerkat : <unk> and <unk> . follow on twitter : @cnntech . hashtag : # <unk> . hope to see you there !\n",
            "Trg :  join <unk> founder ben rubin for a live chat at 2 p.m. et wednesday . \n",
            " follow <unk> and <unk> on <unk> . \n",
            " use hashtag # <unk> to join the conversation on twitter .\n",
            "Pred:  the <unk> app took the storm 's first time . \n",
            " the <unk> - old has launched its latest album . \n",
            " the <unk> - old has launched its latest album .\n",
            "\n",
            "Example #3\n",
            "Src :  ( cnn)a british military health care worker in sierra leone has tested positive for ebola , a uk health agency said . medical experts are assessing what to do next , including whether or not the evacuate the infected individual to the united kingdom for treatment , according to a public health england spokesperson . an ebola outbreak has devastated parts of west africa , with sierra leone , guinea and liberia being the hardest hit nations . the vast majority of the more than 24,000 confirmed , <unk> and suspected cases , as well as the nearly 10,000 reported deaths , have been in those three countries , the world health organization reports . in some cases , citizens of other nations have come down with the deadly disease while working there -- as , apparently , is true for the uk military heath care worker whose diagnosis was announced wednesday . authorities are investigating how this person was exposed to the virus and tracing individuals in recent contact with the diagnosed worker , said the public health england spokesperson . \" any individuals identified as having had close contact will be assessed and a clinical decision made regarding bringing them to the uk , \" the spokesperson said . pauline cafferkey , the first person diagnosed with ebola in the united kingdom , was discharged from london 's royal free hospital in january after battling the virus . she is a public health nurse in scotland 's south lanarkshire area who was part of a 30-strong team of medical volunteers deployed to west africa by the uk government last month in a joint endeavor with save the children , according to british media outlets .\n",
            "Trg :  spokesperson : experts are investigating how the uk military health care worker got ebola . \n",
            " it is being decided if the military worker infected in sierra leone will return to england . \n",
            " there have been some 24,000 reported cases and 10,000 deaths in the latest ebola outbreak .\n",
            "Pred:  health officials say the outbreak is not treating the virus . \n",
            " the outbreak of the more health ministry confirmed the cause of the outbreak .\n",
            "\n",
            "Validation perplexity: 21.939596\n",
            "Epoch 6\n",
            "Epoch Step: 500 Loss: 159.750961 Tokens per Sec: 3315.448975\n",
            "Epoch Step: 1000 Loss: 162.721115 Tokens per Sec: 3242.677800\n",
            "Epoch Step: 1500 Loss: 137.237885 Tokens per Sec: 3293.986605\n",
            "Epoch Step: 2000 Loss: 141.881500 Tokens per Sec: 3306.082632\n",
            "Epoch Step: 2500 Loss: 162.357758 Tokens per Sec: 3333.833349\n",
            "Epoch Step: 3000 Loss: 167.516907 Tokens per Sec: 3337.747010\n",
            "Epoch Step: 3500 Loss: 138.094833 Tokens per Sec: 3239.663580\n",
            "\n",
            "Example #1\n",
            "Src :  ( <unk> - songwriter david crosby hit a jogger with his car sunday evening , a spokesman said . the accident happened in santa <unk> , california , near where crosby lives . crosby was driving at approximately 50 mph when he struck the jogger , according to california highway patrol spokesman don <unk> . the posted speed limit was 55 . the jogger suffered multiple fractures , and was airlifted to a hospital in santa barbara , <unk> said . his injuries are not believed to be life threatening . \" mr. crosby was cooperative with authorities and he was not impaired or intoxicated in any way . mr. crosby did not see the jogger because of the sun , \" said <unk> . according to the spokesman , the jogger and crosby were on the same side of the road . pedestrians are supposed to be on the left side of the road walking toward traffic , <unk> said . joggers are considered pedestrians . crosby is known for weaving <unk> <unk> over sweet melodies . he belongs to the celebrated rock group crosby , stills & nash . \" david crosby is obviously very upset that he accidentally hit anyone . and , based off of initial reports , he is relieved that the injuries to the gentleman were not life threatening , \" said michael jensen , a crosby spokesman . \" he wishes the jogger a very speedy recovery . \"\n",
            "Trg :  accident happens in santa <unk> , california , near where crosby lives . \n",
            " the jogger suffered multiple fractures ; his injuries are not believed to be life - threatening .\n",
            "Pred:  david <unk> hit a <unk> with his car sunday evening . \n",
            " he was struck at approximately 50 mph when he struck the <unk> . \n",
            " the accident happened in santa <unk> , california .\n",
            "\n",
            "Example #2\n",
            "Src :  ( cnn)if you have n't yet been asked by friends or co - workers to meerkat , chances are you will soon . the <unk> app took austin by storm last week , with media outlets -- including cnnmoney -- calling it \" the new sxsw sweetheart , \" \" the coolest cat \" and the festival 's \" big star . \" the san francisco - based startup launched february 27 and has been adding users rapidly ever since . even jimmy fallon is streaming his life using meerkat . as part of our instant startups series ( see the videos above ) , cnnmoney correspondent laurie segall reached out to meerkat founder ben rubin with some questions . and he agreed to answer them -- on meerkat , of course . what questions do you have about the app , sxsw or entrepreneurship ? do you dream of launching your own startup ? now is your chance to ask the experts how . leave your questions in the comments below or ask them directly on meerkat or twitter at 2 p.m. et wednesday . what : live chat with meerkat 's rubin . when : wednesday , from 2 to 2:45 p.m. et . where : on meerkat and twitter . follow on meerkat : <unk> and <unk> . follow on twitter : @cnntech . hashtag : # <unk> . hope to see you there !\n",
            "Trg :  join <unk> founder ben rubin for a live chat at 2 p.m. et wednesday . \n",
            " follow <unk> and <unk> on <unk> . \n",
            " use hashtag # <unk> to join the conversation on twitter .\n",
            "Pred:  the <unk> app took the weekly <unk> . \n",
            " the <unk> - old has launched its <unk> <unk> . \n",
            " the show is the first - old <unk> <unk> .\n",
            "\n",
            "Example #3\n",
            "Src :  ( cnn)a british military health care worker in sierra leone has tested positive for ebola , a uk health agency said . medical experts are assessing what to do next , including whether or not the evacuate the infected individual to the united kingdom for treatment , according to a public health england spokesperson . an ebola outbreak has devastated parts of west africa , with sierra leone , guinea and liberia being the hardest hit nations . the vast majority of the more than 24,000 confirmed , <unk> and suspected cases , as well as the nearly 10,000 reported deaths , have been in those three countries , the world health organization reports . in some cases , citizens of other nations have come down with the deadly disease while working there -- as , apparently , is true for the uk military heath care worker whose diagnosis was announced wednesday . authorities are investigating how this person was exposed to the virus and tracing individuals in recent contact with the diagnosed worker , said the public health england spokesperson . \" any individuals identified as having had close contact will be assessed and a clinical decision made regarding bringing them to the uk , \" the spokesperson said . pauline cafferkey , the first person diagnosed with ebola in the united kingdom , was discharged from london 's royal free hospital in january after battling the virus . she is a public health nurse in scotland 's south lanarkshire area who was part of a 30-strong team of medical volunteers deployed to west africa by the uk government last month in a joint endeavor with save the children , according to british media outlets .\n",
            "Trg :  spokesperson : experts are investigating how the uk military health care worker got ebola . \n",
            " it is being decided if the military worker infected in sierra leone will return to england . \n",
            " there have been some 24,000 reported cases and 10,000 deaths in the latest ebola outbreak .\n",
            "Pred:  medical experts concluded medical treatment in sierra leone . \n",
            " medical experts say how ebola is the cause of the ebola outbreak . \n",
            " the outbreak of the more health have been linked with ebola .\n",
            "\n",
            "Validation perplexity: 21.219154\n"
          ],
          "name": "stdout"
        },
        {
          "output_type": "stream",
          "text": [
            "/usr/local/lib/python3.6/dist-packages/torch/optim/lr_scheduler.py:370: UserWarning: To get the last learning rate computed by the scheduler, please use `get_last_lr()`.\n",
            "  \"please use `get_last_lr()`.\", UserWarning)\n"
          ],
          "name": "stderr"
        }
      ]
    },
    {
      "cell_type": "code",
      "metadata": {
        "scrolled": false,
        "colab": {
          "base_uri": "https://localhost:8080/"
        },
        "id": "judgMcLdxoN0",
        "outputId": "3db16b31-c274-4c6b-ce60-971da2954059"
      },
      "source": [
        "model = make_model(len(SRC.vocab), len(TRG.vocab),\n",
        "                   emb_size=256, hidden_size=256,\n",
        "                   num_layers=2, dropout=0.2)\n",
        "dev_perplexities = train(model, print_every=500, num_epochs=7)"
      ],
      "execution_count": null,
      "outputs": [
        {
          "output_type": "stream",
          "text": [
            "Epoch 0\n"
          ],
          "name": "stdout"
        },
        {
          "output_type": "stream",
          "text": [
            "/usr/local/lib/python3.6/dist-packages/torchtext/data/batch.py:23: UserWarning: Batch class will be retired soon and moved to torchtext.legacy. Please see the most recent release notes for further information.\n",
            "  warnings.warn('{} class will be retired soon and moved to torchtext.legacy. Please see the most recent release notes for further information.'.format(self.__class__.__name__), UserWarning)\n"
          ],
          "name": "stderr"
        },
        {
          "output_type": "stream",
          "text": [
            "Epoch Step: 500 Loss: 244.978561 Tokens per Sec: 3193.240966\n",
            "Epoch Step: 1000 Loss: 236.054413 Tokens per Sec: 3247.400482\n",
            "Epoch Step: 1500 Loss: 234.149109 Tokens per Sec: 3291.939582\n",
            "Epoch Step: 2000 Loss: 257.293152 Tokens per Sec: 3154.548834\n",
            "Epoch Step: 2500 Loss: 280.675537 Tokens per Sec: 3245.443559\n",
            "Epoch Step: 3000 Loss: 315.567047 Tokens per Sec: 3252.859388\n",
            "Epoch Step: 3500 Loss: 222.645462 Tokens per Sec: 3264.545661\n",
            "\n",
            "Example #1\n",
            "Src :  ( <unk> - songwriter david crosby hit a jogger with his car sunday evening , a spokesman said . the accident happened in santa <unk> , california , near where crosby lives . crosby was driving at approximately 50 mph when he struck the jogger , according to california highway patrol spokesman don <unk> . the posted speed limit was 55 . the jogger suffered multiple fractures , and was airlifted to a hospital in santa barbara , <unk> said . his injuries are not believed to be life threatening . \" mr. crosby was cooperative with authorities and he was not impaired or intoxicated in any way . mr. crosby did not see the jogger because of the sun , \" said <unk> . according to the spokesman , the jogger and crosby were on the same side of the road . pedestrians are supposed to be on the left side of the road walking toward traffic , <unk> said . joggers are considered pedestrians . crosby is known for weaving <unk> <unk> over sweet melodies . he belongs to the celebrated rock group crosby , stills & nash . \" david crosby is obviously very upset that he accidentally hit anyone . and , based off of initial reports , he is relieved that the injuries to the gentleman were not life threatening , \" said michael jensen , a crosby spokesman . \" he wishes the jogger a very speedy recovery . \"\n",
            "Trg :  accident happens in santa <unk> , california , near where crosby lives . \n",
            " the jogger suffered multiple fractures ; his injuries are not believed to be life - threatening .\n",
            "Pred:  <unk> <unk> , <unk> , was found dead in the hospital . \n",
            " the <unk> <unk> was found dead in the hospital . \n",
            " the <unk> <unk> was taken to hospital .\n",
            "\n",
            "Example #2\n",
            "Src :  ( cnn)if you have n't yet been asked by friends or co - workers to meerkat , chances are you will soon . the <unk> app took austin by storm last week , with media outlets -- including cnnmoney -- calling it \" the new sxsw sweetheart , \" \" the coolest cat \" and the festival 's \" big star . \" the san francisco - based startup launched february 27 and has been adding users rapidly ever since . even jimmy fallon is streaming his life using meerkat . as part of our instant startups series ( see the videos above ) , cnnmoney correspondent laurie segall reached out to meerkat founder ben rubin with some questions . and he agreed to answer them -- on meerkat , of course . what questions do you have about the app , sxsw or entrepreneurship ? do you dream of launching your own startup ? now is your chance to ask the experts how . leave your questions in the comments below or ask them directly on meerkat or twitter at 2 p.m. et wednesday . what : live chat with meerkat 's rubin . when : wednesday , from 2 to 2:45 p.m. et . where : on meerkat and twitter . follow on meerkat : <unk> and <unk> . follow on twitter : @cnntech . hashtag : # <unk> . hope to see you there !\n",
            "Trg :  join <unk> founder ben rubin for a live chat at 2 p.m. et wednesday . \n",
            " follow <unk> and <unk> on <unk> . \n",
            " use hashtag # <unk> to join the conversation on twitter .\n",
            "Pred:  the app is a new app \" \n",
            " the app is a <unk> \" \n",
            " the <unk> is a <unk> \" <unk> \" \n",
            " the <unk> is a <unk> of the <unk> \"\n",
            "\n",
            "Example #3\n",
            "Src :  ( cnn)a british military health care worker in sierra leone has tested positive for ebola , a uk health agency said . medical experts are assessing what to do next , including whether or not the evacuate the infected individual to the united kingdom for treatment , according to a public health england spokesperson . an ebola outbreak has devastated parts of west africa , with sierra leone , guinea and liberia being the hardest hit nations . the vast majority of the more than 24,000 confirmed , <unk> and suspected cases , as well as the nearly 10,000 reported deaths , have been in those three countries , the world health organization reports . in some cases , citizens of other nations have come down with the deadly disease while working there -- as , apparently , is true for the uk military heath care worker whose diagnosis was announced wednesday . authorities are investigating how this person was exposed to the virus and tracing individuals in recent contact with the diagnosed worker , said the public health england spokesperson . \" any individuals identified as having had close contact will be assessed and a clinical decision made regarding bringing them to the uk , \" the spokesperson said . pauline cafferkey , the first person diagnosed with ebola in the united kingdom , was discharged from london 's royal free hospital in january after battling the virus . she is a public health nurse in scotland 's south lanarkshire area who was part of a 30-strong team of medical volunteers deployed to west africa by the uk government last month in a joint endeavor with save the children , according to british media outlets .\n",
            "Trg :  spokesperson : experts are investigating how the uk military health care worker got ebola . \n",
            " it is being decided if the military worker infected in sierra leone will return to england . \n",
            " there have been some 24,000 reported cases and 10,000 deaths in the latest ebola outbreak .\n",
            "Pred:  the new study is a new year in the country 's office . \n",
            " the new year is the first time of the country 's largest <unk> . \n",
            " the new : the company has been released by the country .\n",
            "\n",
            "Validation perplexity: 108.490080\n",
            "Epoch 1\n",
            "Epoch Step: 500 Loss: 165.073196 Tokens per Sec: 3204.495683\n",
            "Epoch Step: 1000 Loss: 222.064835 Tokens per Sec: 3242.199380\n",
            "Epoch Step: 1500 Loss: 215.916672 Tokens per Sec: 3270.909806\n",
            "Epoch Step: 2000 Loss: 120.902420 Tokens per Sec: 3195.321334\n",
            "Epoch Step: 2500 Loss: 472.085144 Tokens per Sec: 3212.329437\n",
            "Epoch Step: 3000 Loss: 214.625458 Tokens per Sec: 3302.860304\n",
            "Epoch Step: 3500 Loss: 246.989639 Tokens per Sec: 3263.987992\n",
            "\n",
            "Example #1\n",
            "Src :  ( <unk> - songwriter david crosby hit a jogger with his car sunday evening , a spokesman said . the accident happened in santa <unk> , california , near where crosby lives . crosby was driving at approximately 50 mph when he struck the jogger , according to california highway patrol spokesman don <unk> . the posted speed limit was 55 . the jogger suffered multiple fractures , and was airlifted to a hospital in santa barbara , <unk> said . his injuries are not believed to be life threatening . \" mr. crosby was cooperative with authorities and he was not impaired or intoxicated in any way . mr. crosby did not see the jogger because of the sun , \" said <unk> . according to the spokesman , the jogger and crosby were on the same side of the road . pedestrians are supposed to be on the left side of the road walking toward traffic , <unk> said . joggers are considered pedestrians . crosby is known for weaving <unk> <unk> over sweet melodies . he belongs to the celebrated rock group crosby , stills & nash . \" david crosby is obviously very upset that he accidentally hit anyone . and , based off of initial reports , he is relieved that the injuries to the gentleman were not life threatening , \" said michael jensen , a crosby spokesman . \" he wishes the jogger a very speedy recovery . \"\n",
            "Trg :  accident happens in santa <unk> , california , near where crosby lives . \n",
            " the jogger suffered multiple fractures ; his injuries are not believed to be life - threatening .\n",
            "Pred:  the man was taken to hospital in <unk> , california , died . \n",
            " the man was taken to hospital in the hospital , a sheriff says . \n",
            " the <unk> was taken to hospital in the hospital .\n",
            "\n",
            "Example #2\n",
            "Src :  ( cnn)if you have n't yet been asked by friends or co - workers to meerkat , chances are you will soon . the <unk> app took austin by storm last week , with media outlets -- including cnnmoney -- calling it \" the new sxsw sweetheart , \" \" the coolest cat \" and the festival 's \" big star . \" the san francisco - based startup launched february 27 and has been adding users rapidly ever since . even jimmy fallon is streaming his life using meerkat . as part of our instant startups series ( see the videos above ) , cnnmoney correspondent laurie segall reached out to meerkat founder ben rubin with some questions . and he agreed to answer them -- on meerkat , of course . what questions do you have about the app , sxsw or entrepreneurship ? do you dream of launching your own startup ? now is your chance to ask the experts how . leave your questions in the comments below or ask them directly on meerkat or twitter at 2 p.m. et wednesday . what : live chat with meerkat 's rubin . when : wednesday , from 2 to 2:45 p.m. et . where : on meerkat and twitter . follow on meerkat : <unk> and <unk> . follow on twitter : @cnntech . hashtag : # <unk> . hope to see you there !\n",
            "Trg :  join <unk> founder ben rubin for a live chat at 2 p.m. et wednesday . \n",
            " follow <unk> and <unk> on <unk> . \n",
            " use hashtag # <unk> to join the conversation on twitter .\n",
            "Pred:  the app will be available on the show . \n",
            " the app will be available on the <unk> . \n",
            " the app will also be available on the <unk> .\n",
            "\n",
            "Example #3\n",
            "Src :  ( cnn)a british military health care worker in sierra leone has tested positive for ebola , a uk health agency said . medical experts are assessing what to do next , including whether or not the evacuate the infected individual to the united kingdom for treatment , according to a public health england spokesperson . an ebola outbreak has devastated parts of west africa , with sierra leone , guinea and liberia being the hardest hit nations . the vast majority of the more than 24,000 confirmed , <unk> and suspected cases , as well as the nearly 10,000 reported deaths , have been in those three countries , the world health organization reports . in some cases , citizens of other nations have come down with the deadly disease while working there -- as , apparently , is true for the uk military heath care worker whose diagnosis was announced wednesday . authorities are investigating how this person was exposed to the virus and tracing individuals in recent contact with the diagnosed worker , said the public health england spokesperson . \" any individuals identified as having had close contact will be assessed and a clinical decision made regarding bringing them to the uk , \" the spokesperson said . pauline cafferkey , the first person diagnosed with ebola in the united kingdom , was discharged from london 's royal free hospital in january after battling the virus . she is a public health nurse in scotland 's south lanarkshire area who was part of a 30-strong team of medical volunteers deployed to west africa by the uk government last month in a joint endeavor with save the children , according to british media outlets .\n",
            "Trg :  spokesperson : experts are investigating how the uk military health care worker got ebola . \n",
            " it is being decided if the military worker infected in sierra leone will return to england . \n",
            " there have been some 24,000 reported cases and 10,000 deaths in the latest ebola outbreak .\n",
            "Pred:  the u.s. embassy are expected to be a <unk> , health officials say . \n",
            " the <unk> is the first person in the united states , the cdc says .\n",
            "\n",
            "Validation perplexity: 69.896396\n",
            "Epoch 2\n",
            "Epoch Step: 500 Loss: 211.250717 Tokens per Sec: 3265.594262\n",
            "Epoch Step: 1000 Loss: 189.014175 Tokens per Sec: 3271.729664\n",
            "Epoch Step: 1500 Loss: 213.909943 Tokens per Sec: 3221.806179\n",
            "Epoch Step: 2000 Loss: 219.406693 Tokens per Sec: 3168.922890\n",
            "Epoch Step: 2500 Loss: 234.381958 Tokens per Sec: 3156.475653\n",
            "Epoch Step: 3000 Loss: 207.044342 Tokens per Sec: 3290.577695\n",
            "Epoch Step: 3500 Loss: 220.650879 Tokens per Sec: 3277.090153\n",
            "\n",
            "Example #1\n",
            "Src :  ( <unk> - songwriter david crosby hit a jogger with his car sunday evening , a spokesman said . the accident happened in santa <unk> , california , near where crosby lives . crosby was driving at approximately 50 mph when he struck the jogger , according to california highway patrol spokesman don <unk> . the posted speed limit was 55 . the jogger suffered multiple fractures , and was airlifted to a hospital in santa barbara , <unk> said . his injuries are not believed to be life threatening . \" mr. crosby was cooperative with authorities and he was not impaired or intoxicated in any way . mr. crosby did not see the jogger because of the sun , \" said <unk> . according to the spokesman , the jogger and crosby were on the same side of the road . pedestrians are supposed to be on the left side of the road walking toward traffic , <unk> said . joggers are considered pedestrians . crosby is known for weaving <unk> <unk> over sweet melodies . he belongs to the celebrated rock group crosby , stills & nash . \" david crosby is obviously very upset that he accidentally hit anyone . and , based off of initial reports , he is relieved that the injuries to the gentleman were not life threatening , \" said michael jensen , a crosby spokesman . \" he wishes the jogger a very speedy recovery . \"\n",
            "Trg :  accident happens in santa <unk> , california , near where crosby lives . \n",
            " the jogger suffered multiple fractures ; his injuries are not believed to be life - threatening .\n",
            "Pred:  the accident happened in <unk> , california , near california . \n",
            " the accident happened on a road . \n",
            " the accident happened on the road of the road .\n",
            "\n",
            "Example #2\n",
            "Src :  ( cnn)if you have n't yet been asked by friends or co - workers to meerkat , chances are you will soon . the <unk> app took austin by storm last week , with media outlets -- including cnnmoney -- calling it \" the new sxsw sweetheart , \" \" the coolest cat \" and the festival 's \" big star . \" the san francisco - based startup launched february 27 and has been adding users rapidly ever since . even jimmy fallon is streaming his life using meerkat . as part of our instant startups series ( see the videos above ) , cnnmoney correspondent laurie segall reached out to meerkat founder ben rubin with some questions . and he agreed to answer them -- on meerkat , of course . what questions do you have about the app , sxsw or entrepreneurship ? do you dream of launching your own startup ? now is your chance to ask the experts how . leave your questions in the comments below or ask them directly on meerkat or twitter at 2 p.m. et wednesday . what : live chat with meerkat 's rubin . when : wednesday , from 2 to 2:45 p.m. et . where : on meerkat and twitter . follow on meerkat : <unk> and <unk> . follow on twitter : @cnntech . hashtag : # <unk> . hope to see you there !\n",
            "Trg :  join <unk> founder ben rubin for a live chat at 2 p.m. et wednesday . \n",
            " follow <unk> and <unk> on <unk> . \n",
            " use hashtag # <unk> to join the conversation on twitter .\n",
            "Pred:  the app app is a <unk> <unk> , the <unk> and <unk> . \n",
            " the show is available on wednesday . \n",
            " the show is available to <unk> p.m. et .\n",
            "\n",
            "Example #3\n",
            "Src :  ( cnn)a british military health care worker in sierra leone has tested positive for ebola , a uk health agency said . medical experts are assessing what to do next , including whether or not the evacuate the infected individual to the united kingdom for treatment , according to a public health england spokesperson . an ebola outbreak has devastated parts of west africa , with sierra leone , guinea and liberia being the hardest hit nations . the vast majority of the more than 24,000 confirmed , <unk> and suspected cases , as well as the nearly 10,000 reported deaths , have been in those three countries , the world health organization reports . in some cases , citizens of other nations have come down with the deadly disease while working there -- as , apparently , is true for the uk military heath care worker whose diagnosis was announced wednesday . authorities are investigating how this person was exposed to the virus and tracing individuals in recent contact with the diagnosed worker , said the public health england spokesperson . \" any individuals identified as having had close contact will be assessed and a clinical decision made regarding bringing them to the uk , \" the spokesperson said . pauline cafferkey , the first person diagnosed with ebola in the united kingdom , was discharged from london 's royal free hospital in january after battling the virus . she is a public health nurse in scotland 's south lanarkshire area who was part of a 30-strong team of medical volunteers deployed to west africa by the uk government last month in a joint endeavor with save the children , according to british media outlets .\n",
            "Trg :  spokesperson : experts are investigating how the uk military health care worker got ebola . \n",
            " it is being decided if the military worker infected in sierra leone will return to england . \n",
            " there have been some 24,000 reported cases and 10,000 deaths in the latest ebola outbreak .\n",
            "Pred:  health officials say the virus has been linked with ebola . \n",
            " the virus has been linked with ebola , health officials say . \n",
            " the outbreak is the first person with the virus .\n",
            "\n",
            "Validation perplexity: 50.997072\n",
            "Epoch 3\n",
            "Epoch Step: 500 Loss: 164.320007 Tokens per Sec: 3273.747463\n",
            "Epoch Step: 1000 Loss: 145.567963 Tokens per Sec: 3287.743553\n",
            "Epoch Step: 1500 Loss: 199.932892 Tokens per Sec: 3254.274344\n",
            "Epoch Step: 2000 Loss: 228.395935 Tokens per Sec: 3313.447155\n",
            "Epoch Step: 2500 Loss: 153.621475 Tokens per Sec: 3305.145228\n",
            "Epoch Step: 3000 Loss: 167.579361 Tokens per Sec: 3367.631386\n",
            "Epoch Step: 3500 Loss: 200.468018 Tokens per Sec: 3221.959013\n",
            "\n",
            "Example #1\n",
            "Src :  ( <unk> - songwriter david crosby hit a jogger with his car sunday evening , a spokesman said . the accident happened in santa <unk> , california , near where crosby lives . crosby was driving at approximately 50 mph when he struck the jogger , according to california highway patrol spokesman don <unk> . the posted speed limit was 55 . the jogger suffered multiple fractures , and was airlifted to a hospital in santa barbara , <unk> said . his injuries are not believed to be life threatening . \" mr. crosby was cooperative with authorities and he was not impaired or intoxicated in any way . mr. crosby did not see the jogger because of the sun , \" said <unk> . according to the spokesman , the jogger and crosby were on the same side of the road . pedestrians are supposed to be on the left side of the road walking toward traffic , <unk> said . joggers are considered pedestrians . crosby is known for weaving <unk> <unk> over sweet melodies . he belongs to the celebrated rock group crosby , stills & nash . \" david crosby is obviously very upset that he accidentally hit anyone . and , based off of initial reports , he is relieved that the injuries to the gentleman were not life threatening , \" said michael jensen , a crosby spokesman . \" he wishes the jogger a very speedy recovery . \"\n",
            "Trg :  accident happens in santa <unk> , california , near where crosby lives . \n",
            " the jogger suffered multiple fractures ; his injuries are not believed to be life - threatening .\n",
            "Pred:  <unk> <unk> was hit by a car in the <unk> , california . \n",
            " the accident happened in <unk> , california . \n",
            " his injuries are not known to be life threatening .\n",
            "\n",
            "Example #2\n",
            "Src :  ( cnn)if you have n't yet been asked by friends or co - workers to meerkat , chances are you will soon . the <unk> app took austin by storm last week , with media outlets -- including cnnmoney -- calling it \" the new sxsw sweetheart , \" \" the coolest cat \" and the festival 's \" big star . \" the san francisco - based startup launched february 27 and has been adding users rapidly ever since . even jimmy fallon is streaming his life using meerkat . as part of our instant startups series ( see the videos above ) , cnnmoney correspondent laurie segall reached out to meerkat founder ben rubin with some questions . and he agreed to answer them -- on meerkat , of course . what questions do you have about the app , sxsw or entrepreneurship ? do you dream of launching your own startup ? now is your chance to ask the experts how . leave your questions in the comments below or ask them directly on meerkat or twitter at 2 p.m. et wednesday . what : live chat with meerkat 's rubin . when : wednesday , from 2 to 2:45 p.m. et . where : on meerkat and twitter . follow on meerkat : <unk> and <unk> . follow on twitter : @cnntech . hashtag : # <unk> . hope to see you there !\n",
            "Trg :  join <unk> founder ben rubin for a live chat at 2 p.m. et wednesday . \n",
            " follow <unk> and <unk> on <unk> . \n",
            " use hashtag # <unk> to join the conversation on twitter .\n",
            "Pred:  the <unk> app took over by a week . \n",
            " the show is the most popular star wars .\n",
            "\n",
            "Example #3\n",
            "Src :  ( cnn)a british military health care worker in sierra leone has tested positive for ebola , a uk health agency said . medical experts are assessing what to do next , including whether or not the evacuate the infected individual to the united kingdom for treatment , according to a public health england spokesperson . an ebola outbreak has devastated parts of west africa , with sierra leone , guinea and liberia being the hardest hit nations . the vast majority of the more than 24,000 confirmed , <unk> and suspected cases , as well as the nearly 10,000 reported deaths , have been in those three countries , the world health organization reports . in some cases , citizens of other nations have come down with the deadly disease while working there -- as , apparently , is true for the uk military heath care worker whose diagnosis was announced wednesday . authorities are investigating how this person was exposed to the virus and tracing individuals in recent contact with the diagnosed worker , said the public health england spokesperson . \" any individuals identified as having had close contact will be assessed and a clinical decision made regarding bringing them to the uk , \" the spokesperson said . pauline cafferkey , the first person diagnosed with ebola in the united kingdom , was discharged from london 's royal free hospital in january after battling the virus . she is a public health nurse in scotland 's south lanarkshire area who was part of a 30-strong team of medical volunteers deployed to west africa by the uk government last month in a joint endeavor with save the children , according to british media outlets .\n",
            "Trg :  spokesperson : experts are investigating how the uk military health care worker got ebola . \n",
            " it is being decided if the military worker infected in sierra leone will return to england . \n",
            " there have been some 24,000 reported cases and 10,000 deaths in the latest ebola outbreak .\n",
            "Pred:  health secretary unit care unit in sierra leone . \n",
            " the virus has been linked with ebola virus . \n",
            " the virus has been linked with ebola .\n",
            "\n",
            "Validation perplexity: 39.450914\n",
            "Epoch 4\n",
            "Epoch Step: 500 Loss: 212.939789 Tokens per Sec: 3296.580113\n",
            "Epoch Step: 1000 Loss: 153.236374 Tokens per Sec: 3289.125515\n",
            "Epoch Step: 1500 Loss: 123.045303 Tokens per Sec: 3328.695399\n",
            "Epoch Step: 2000 Loss: 151.528046 Tokens per Sec: 3301.206950\n",
            "Epoch Step: 2500 Loss: 189.535187 Tokens per Sec: 3235.052593\n",
            "Epoch Step: 3000 Loss: 187.822159 Tokens per Sec: 3332.083103\n",
            "Epoch Step: 3500 Loss: 228.727982 Tokens per Sec: 3264.341397\n",
            "\n",
            "Example #1\n",
            "Src :  ( <unk> - songwriter david crosby hit a jogger with his car sunday evening , a spokesman said . the accident happened in santa <unk> , california , near where crosby lives . crosby was driving at approximately 50 mph when he struck the jogger , according to california highway patrol spokesman don <unk> . the posted speed limit was 55 . the jogger suffered multiple fractures , and was airlifted to a hospital in santa barbara , <unk> said . his injuries are not believed to be life threatening . \" mr. crosby was cooperative with authorities and he was not impaired or intoxicated in any way . mr. crosby did not see the jogger because of the sun , \" said <unk> . according to the spokesman , the jogger and crosby were on the same side of the road . pedestrians are supposed to be on the left side of the road walking toward traffic , <unk> said . joggers are considered pedestrians . crosby is known for weaving <unk> <unk> over sweet melodies . he belongs to the celebrated rock group crosby , stills & nash . \" david crosby is obviously very upset that he accidentally hit anyone . and , based off of initial reports , he is relieved that the injuries to the gentleman were not life threatening , \" said michael jensen , a crosby spokesman . \" he wishes the jogger a very speedy recovery . \"\n",
            "Trg :  accident happens in santa <unk> , california , near where crosby lives . \n",
            " the jogger suffered multiple fractures ; his injuries are not believed to be life - threatening .\n",
            "Pred:  <unk> <unk> was driving at approximately 50 mph when he struck the fence . \n",
            " he was driving at approximately 50 mph when he struck the fence , one spokeswoman says . \n",
            " he is expected to be on the left side of the road .\n",
            "\n",
            "Example #2\n",
            "Src :  ( cnn)if you have n't yet been asked by friends or co - workers to meerkat , chances are you will soon . the <unk> app took austin by storm last week , with media outlets -- including cnnmoney -- calling it \" the new sxsw sweetheart , \" \" the coolest cat \" and the festival 's \" big star . \" the san francisco - based startup launched february 27 and has been adding users rapidly ever since . even jimmy fallon is streaming his life using meerkat . as part of our instant startups series ( see the videos above ) , cnnmoney correspondent laurie segall reached out to meerkat founder ben rubin with some questions . and he agreed to answer them -- on meerkat , of course . what questions do you have about the app , sxsw or entrepreneurship ? do you dream of launching your own startup ? now is your chance to ask the experts how . leave your questions in the comments below or ask them directly on meerkat or twitter at 2 p.m. et wednesday . what : live chat with meerkat 's rubin . when : wednesday , from 2 to 2:45 p.m. et . where : on meerkat and twitter . follow on meerkat : <unk> and <unk> . follow on twitter : @cnntech . hashtag : # <unk> . hope to see you there !\n",
            "Trg :  join <unk> founder ben rubin for a live chat at 2 p.m. et wednesday . \n",
            " follow <unk> and <unk> on <unk> . \n",
            " use hashtag # <unk> to join the conversation on twitter .\n",
            "Pred:  the app lets a new <unk> <unk> , <unk> <unk> . \n",
            " the show is available on march , and the show is a popular destination . \n",
            " the show is available on the <unk> , the show and <unk> .\n",
            "\n",
            "Example #3\n",
            "Src :  ( cnn)a british military health care worker in sierra leone has tested positive for ebola , a uk health agency said . medical experts are assessing what to do next , including whether or not the evacuate the infected individual to the united kingdom for treatment , according to a public health england spokesperson . an ebola outbreak has devastated parts of west africa , with sierra leone , guinea and liberia being the hardest hit nations . the vast majority of the more than 24,000 confirmed , <unk> and suspected cases , as well as the nearly 10,000 reported deaths , have been in those three countries , the world health organization reports . in some cases , citizens of other nations have come down with the deadly disease while working there -- as , apparently , is true for the uk military heath care worker whose diagnosis was announced wednesday . authorities are investigating how this person was exposed to the virus and tracing individuals in recent contact with the diagnosed worker , said the public health england spokesperson . \" any individuals identified as having had close contact will be assessed and a clinical decision made regarding bringing them to the uk , \" the spokesperson said . pauline cafferkey , the first person diagnosed with ebola in the united kingdom , was discharged from london 's royal free hospital in january after battling the virus . she is a public health nurse in scotland 's south lanarkshire area who was part of a 30-strong team of medical volunteers deployed to west africa by the uk government last month in a joint endeavor with save the children , according to british media outlets .\n",
            "Trg :  spokesperson : experts are investigating how the uk military health care worker got ebola . \n",
            " it is being decided if the military worker infected in sierra leone will return to england . \n",
            " there have been some 24,000 reported cases and 10,000 deaths in the latest ebola outbreak .\n",
            "Pred:  ebola outbreak is ebola in sierra leone , sierra leone , liberia . \n",
            " the virus is in public health care since sierra leone . \n",
            " the virus is in public health care since the ebola .\n",
            "\n",
            "Validation perplexity: 33.006952\n",
            "Epoch 5\n",
            "Epoch Step: 500 Loss: 168.899414 Tokens per Sec: 3305.783409\n",
            "Epoch Step: 1000 Loss: 159.021194 Tokens per Sec: 3264.516293\n",
            "Epoch Step: 1500 Loss: 139.533646 Tokens per Sec: 3301.198518\n",
            "Epoch Step: 2000 Loss: 191.478363 Tokens per Sec: 3316.291834\n",
            "Epoch Step: 2500 Loss: 160.028366 Tokens per Sec: 3266.414431\n",
            "Epoch Step: 3000 Loss: 141.623413 Tokens per Sec: 3341.689456\n",
            "Epoch Step: 3500 Loss: 155.060532 Tokens per Sec: 3308.608789\n",
            "\n",
            "Example #1\n",
            "Src :  ( <unk> - songwriter david crosby hit a jogger with his car sunday evening , a spokesman said . the accident happened in santa <unk> , california , near where crosby lives . crosby was driving at approximately 50 mph when he struck the jogger , according to california highway patrol spokesman don <unk> . the posted speed limit was 55 . the jogger suffered multiple fractures , and was airlifted to a hospital in santa barbara , <unk> said . his injuries are not believed to be life threatening . \" mr. crosby was cooperative with authorities and he was not impaired or intoxicated in any way . mr. crosby did not see the jogger because of the sun , \" said <unk> . according to the spokesman , the jogger and crosby were on the same side of the road . pedestrians are supposed to be on the left side of the road walking toward traffic , <unk> said . joggers are considered pedestrians . crosby is known for weaving <unk> <unk> over sweet melodies . he belongs to the celebrated rock group crosby , stills & nash . \" david crosby is obviously very upset that he accidentally hit anyone . and , based off of initial reports , he is relieved that the injuries to the gentleman were not life threatening , \" said michael jensen , a crosby spokesman . \" he wishes the jogger a very speedy recovery . \"\n",
            "Trg :  accident happens in santa <unk> , california , near where crosby lives . \n",
            " the jogger suffered multiple fractures ; his injuries are not believed to be life - threatening .\n",
            "Pred:  <unk> <unk> was driving at approximately 50 mph when he struck the window . \n",
            " he was driving at approximately 50 mph when he struck the window . \n",
            " he is recovering to a hospital in santa barbara , florida .\n",
            "\n",
            "Example #2\n",
            "Src :  ( cnn)if you have n't yet been asked by friends or co - workers to meerkat , chances are you will soon . the <unk> app took austin by storm last week , with media outlets -- including cnnmoney -- calling it \" the new sxsw sweetheart , \" \" the coolest cat \" and the festival 's \" big star . \" the san francisco - based startup launched february 27 and has been adding users rapidly ever since . even jimmy fallon is streaming his life using meerkat . as part of our instant startups series ( see the videos above ) , cnnmoney correspondent laurie segall reached out to meerkat founder ben rubin with some questions . and he agreed to answer them -- on meerkat , of course . what questions do you have about the app , sxsw or entrepreneurship ? do you dream of launching your own startup ? now is your chance to ask the experts how . leave your questions in the comments below or ask them directly on meerkat or twitter at 2 p.m. et wednesday . what : live chat with meerkat 's rubin . when : wednesday , from 2 to 2:45 p.m. et . where : on meerkat and twitter . follow on meerkat : <unk> and <unk> . follow on twitter : @cnntech . hashtag : # <unk> . hope to see you there !\n",
            "Trg :  join <unk> founder ben rubin for a live chat at 2 p.m. et wednesday . \n",
            " follow <unk> and <unk> on <unk> . \n",
            " use hashtag # <unk> to join the conversation on twitter .\n",
            "Pred:  the app app has been <unk> users . \n",
            " the <unk> app is set to be <unk> . \n",
            " the app is a popular sensation .\n",
            "\n",
            "Example #3\n",
            "Src :  ( cnn)a british military health care worker in sierra leone has tested positive for ebola , a uk health agency said . medical experts are assessing what to do next , including whether or not the evacuate the infected individual to the united kingdom for treatment , according to a public health england spokesperson . an ebola outbreak has devastated parts of west africa , with sierra leone , guinea and liberia being the hardest hit nations . the vast majority of the more than 24,000 confirmed , <unk> and suspected cases , as well as the nearly 10,000 reported deaths , have been in those three countries , the world health organization reports . in some cases , citizens of other nations have come down with the deadly disease while working there -- as , apparently , is true for the uk military heath care worker whose diagnosis was announced wednesday . authorities are investigating how this person was exposed to the virus and tracing individuals in recent contact with the diagnosed worker , said the public health england spokesperson . \" any individuals identified as having had close contact will be assessed and a clinical decision made regarding bringing them to the uk , \" the spokesperson said . pauline cafferkey , the first person diagnosed with ebola in the united kingdom , was discharged from london 's royal free hospital in january after battling the virus . she is a public health nurse in scotland 's south lanarkshire area who was part of a 30-strong team of medical volunteers deployed to west africa by the uk government last month in a joint endeavor with save the children , according to british media outlets .\n",
            "Trg :  spokesperson : experts are investigating how the uk military health care worker got ebola . \n",
            " it is being decided if the military worker infected in sierra leone will return to england . \n",
            " there have been some 24,000 reported cases and 10,000 deaths in the latest ebola outbreak .\n",
            "Pred:  health care workers care ebola medical treatment for ebola , ebola . \n",
            " medical center are investigating whether ebola is a medical center . \n",
            " the outbreak is in intensive care for south africa .\n",
            "\n",
            "Validation perplexity: 30.419358\n"
          ],
          "name": "stdout"
        }
      ]
    },
    {
      "cell_type": "code",
      "metadata": {
        "id": "K57g-78z4R1K"
      },
      "source": [
        "def plot_perplexity(perplexities):\n",
        "    \"\"\"plot perplexities\"\"\"\n",
        "    plt.title(\"Perplexity per Epoch\")\n",
        "    plt.xlabel(\"Epoch\")\n",
        "    plt.ylabel(\"Perplexity\")\n",
        "    plt.plot(perplexities)"
      ],
      "execution_count": null,
      "outputs": []
    },
    {
      "cell_type": "code",
      "metadata": {
        "colab": {
          "base_uri": "https://localhost:8080/",
          "height": 295
        },
        "id": "Z0SuFtyUxoN0",
        "outputId": "6e6791d9-543f-4dce-d6fb-49a4849c35e9"
      },
      "source": [
        "plot_perplexity(dev_perplexities)"
      ],
      "execution_count": null,
      "outputs": [
        {
          "output_type": "display_data",
          "data": {
            "image/png": "[encoded data removed]",
            "text/plain": [
              "<Figure size 432x288 with 1 Axes>"
            ]
          },
          "metadata": {
            "tags": [],
            "needs_background": "light"
          }
        }
      ]
    },
    {
      "cell_type": "markdown",
      "metadata": {
        "id": "m8B9eMUStuRJ"
      },
      "source": [
        "Save model"
      ]
    },
    {
      "cell_type": "code",
      "metadata": {
        "id": "qbo5yeAZI-O7"
      },
      "source": [
        "# Save\n",
        "torch.save(model.cpu().state_dict(), \"enc_dec_model.pth\")"
      ],
      "execution_count": null,
      "outputs": []
    },
    {
      "cell_type": "code",
      "metadata": {
        "id": "KgbsP52qsIMk"
      },
      "source": [
        "from google.colab import files\n",
        "files.download('enc_dec_model.pth')"
      ],
      "execution_count": null,
      "outputs": []
    },
    {
      "cell_type": "code",
      "metadata": {
        "id": "ITlHrApFodGh"
      },
      "source": [
        "#save the list for the LR. SANJ RUN THIS\n",
        "torch.save(lr_list,'exponential_decay_lr_list')"
      ],
      "execution_count": null,
      "outputs": []
    },
    {
      "cell_type": "code",
      "metadata": {
        "id": "8eUXy9lOon-P"
      },
      "source": [
        "#RUN\n",
        "files.download('exponential_decay_lr_list')"
      ],
      "execution_count": null,
      "outputs": []
    },
    {
      "cell_type": "markdown",
      "metadata": {
        "id": "-WCzq3xsj-o2"
      },
      "source": [
        "Load model"
      ]
    },
    {
      "cell_type": "code",
      "metadata": {
        "colab": {
          "base_uri": "https://localhost:8080/"
        },
        "id": "VsVQrXUq5v2k",
        "outputId": "848ef695-83ba-4846-ae10-81faf8e994f7"
      },
      "source": [
        "from google.colab import drive\n",
        "drive.mount('/content/gdrive')"
      ],
      "execution_count": 24,
      "outputs": [
        {
          "output_type": "stream",
          "text": [
            "Mounted at /content/gdrive\n"
          ],
          "name": "stdout"
        }
      ]
    },
    {
      "cell_type": "code",
      "metadata": {
        "colab": {
          "base_uri": "https://localhost:8080/"
        },
        "id": "nt4tXMYe6Lio",
        "outputId": "54e31929-d97b-4224-f24f-5cfc75373ba5"
      },
      "source": [
        "!ls /content/gdrive"
      ],
      "execution_count": 25,
      "outputs": [
        {
          "output_type": "stream",
          "text": [
            "MyDrive  Shareddrives\n"
          ],
          "name": "stdout"
        }
      ]
    },
    {
      "cell_type": "code",
      "metadata": {
        "colab": {
          "base_uri": "https://localhost:8080/"
        },
        "id": "cNQLrYE0kEcX",
        "outputId": "1dc5f454-38d2-413f-fdd5-bd0d5d567389"
      },
      "source": [
        "# Load\n",
        "path = \"/content/gdrive/Shareddrives/ESE_546_Final_Project/\"\n",
        "model = make_model(len(SRC.vocab), len(TRG.vocab),\n",
        "                   emb_size=256, hidden_size=256,\n",
        "                   num_layers=2, dropout=0.2)\n",
        "model.load_state_dict(torch.load(path + \"small_lrls_model.pth\"))\n",
        "model.eval()"
      ],
      "execution_count": 26,
      "outputs": [
        {
          "output_type": "execute_result",
          "data": {
            "text/plain": [
              "EncoderDecoder(\n",
              "  (encoder): Encoder(\n",
              "    (rnn): GRU(256, 256, num_layers=2, batch_first=True, dropout=0.2, bidirectional=True)\n",
              "  )\n",
              "  (decoder): Decoder(\n",
              "    (attention): BahdanauAttention(\n",
              "      (key_layer): Linear(in_features=512, out_features=256, bias=False)\n",
              "      (query_layer): Linear(in_features=256, out_features=256, bias=False)\n",
              "      (energy_layer): Linear(in_features=256, out_features=1, bias=False)\n",
              "    )\n",
              "    (rnn): GRU(768, 256, num_layers=2, batch_first=True, dropout=0.2)\n",
              "    (bridge): Linear(in_features=512, out_features=256, bias=True)\n",
              "    (dropout_layer): Dropout(p=0.2, inplace=False)\n",
              "    (pre_output_layer): Linear(in_features=1024, out_features=256, bias=False)\n",
              "  )\n",
              "  (src_embed): Embedding(61083, 256)\n",
              "  (trg_embed): Embedding(22080, 256)\n",
              "  (generator): Generator(\n",
              "    (proj): Linear(in_features=256, out_features=22080, bias=False)\n",
              "  )\n",
              ")"
            ]
          },
          "metadata": {
            "tags": []
          },
          "execution_count": 26
        }
      ]
    },
    {
      "cell_type": "markdown",
      "metadata": {
        "id": "EvN7ZA7QxoN0"
      },
      "source": [
        "## Prediction and Evaluation\n"
      ]
    },
    {
      "cell_type": "markdown",
      "metadata": {
        "id": "SZ2sbk_7xoN0"
      },
      "source": [
        "**Now we summarize the validation set!**\n",
        "\n",
        "Note that `greedy_decode` will cut-off the sentence when it encounters the end-of-sequence symbol, if we provide it the index of that symbol."
      ]
    },
    {
      "cell_type": "code",
      "metadata": {
        "colab": {
          "base_uri": "https://localhost:8080/"
        },
        "id": "t2gYnW3WxoN0",
        "outputId": "50a8b6fb-abc2-4c88-de11-b3132bd4ce34"
      },
      "source": [
        "hypotheses = []\n",
        "alphas = []  # save the last attention scores\n",
        "for batch in valid_iter:\n",
        "  batch = rebatch(PAD_INDEX, batch)\n",
        "  pred, attention = greedy_decode(\n",
        "    model, batch.src, batch.src_mask, batch.src_lengths, max_len=25,\n",
        "    sos_index=TRG.vocab.stoi[SOS_TOKEN],\n",
        "    eos_index=TRG.vocab.stoi[EOS_TOKEN])\n",
        "  hypotheses.append(pred)\n",
        "  alphas.append(attention)"
      ],
      "execution_count": null,
      "outputs": [
        {
          "output_type": "stream",
          "text": [
            "/usr/local/lib/python3.6/dist-packages/torchtext/data/batch.py:23: UserWarning: Batch class will be retired soon and moved to torchtext.legacy. Please see the most recent release notes for further information.\n",
            "  warnings.warn('{} class will be retired soon and moved to torchtext.legacy. Please see the most recent release notes for further information.'.format(self.__class__.__name__), UserWarning)\n"
          ],
          "name": "stderr"
        }
      ]
    },
    {
      "cell_type": "code",
      "metadata": {
        "colab": {
          "base_uri": "https://localhost:8080/"
        },
        "id": "xw3bkJHNxoN0",
        "outputId": "e509c6e2-b0b6-49ca-aa15-4e2ee1f4e3c1"
      },
      "source": [
        "# we will still need to convert the indices to actual words!\n",
        "hypotheses[0]"
      ],
      "execution_count": null,
      "outputs": [
        {
          "output_type": "execute_result",
          "data": {
            "text/plain": [
              "array([   6,  173,   15,  108,    8,    6,    0,  568,    4,    5,    6,\n",
              "        968,   15,   48,   37,  924,    9,   36,  273, 1520,    4,    5,\n",
              "         23,   15, 1653])"
            ]
          },
          "metadata": {
            "tags": []
          },
          "execution_count": 60
        }
      ]
    },
    {
      "cell_type": "code",
      "metadata": {
        "colab": {
          "base_uri": "https://localhost:8080/"
        },
        "id": "yIpNRUH1xoN0",
        "outputId": "c5bae9d0-39a4-4492-c281-d6c468d0416f"
      },
      "source": [
        "hypotheses = [lookup_words(x, TRG.vocab) for x in hypotheses]\n",
        "hypotheses[0]"
      ],
      "execution_count": null,
      "outputs": [
        {
          "output_type": "execute_result",
          "data": {
            "text/plain": [
              "['the',\n",
              " 'video',\n",
              " 'was',\n",
              " 'killed',\n",
              " 'in',\n",
              " 'the',\n",
              " '<unk>',\n",
              " 'accident',\n",
              " '.',\n",
              " '\\n',\n",
              " 'the',\n",
              " 'truck',\n",
              " 'was',\n",
              " 'not',\n",
              " 'been',\n",
              " 'able',\n",
              " 'to',\n",
              " 'be',\n",
              " 'life',\n",
              " 'threatening',\n",
              " '.',\n",
              " '\\n',\n",
              " 'he',\n",
              " 'was',\n",
              " 'hospitalized']"
            ]
          },
          "metadata": {
            "tags": []
          },
          "execution_count": 61
        }
      ]
    },
    {
      "cell_type": "code",
      "metadata": {
        "colab": {
          "base_uri": "https://localhost:8080/"
        },
        "id": "FsIe6nkhxoN0",
        "outputId": "1de23834-6a64-4e45-8330-ccb577aecba4"
      },
      "source": [
        "# finally, the SacreBLEU raw scorer requires string input, so we convert the lists to strings\n",
        "hypotheses = [\" \".join(x) for x in hypotheses]\n",
        "print(len(hypotheses))\n",
        "print(hypotheses[0])"
      ],
      "execution_count": null,
      "outputs": [
        {
          "output_type": "stream",
          "text": [
            "2222\n",
            "the video was killed in the <unk> accident . \n",
            " the truck was not been able to be life threatening . \n",
            " he was hospitalized\n"
          ],
          "name": "stdout"
        }
      ]
    },
    {
      "cell_type": "markdown",
      "metadata": {
        "id": "vybUSPXexoN0"
      },
      "source": [
        "## Attention Visualization\n",
        "\n",
        "We can also visualize the attention scores of the decoder."
      ]
    },
    {
      "cell_type": "code",
      "metadata": {
        "id": "ALI_8SMpxoN1"
      },
      "source": [
        "def plot_heatmap(src, trg, scores):\n",
        "\n",
        "    fig, ax = plt.subplots(figsize=(15,20))\n",
        "    heatmap = ax.pcolor(scores, cmap='viridis')\n",
        "\n",
        "    ax.set_xticklabels(trg, minor=False, rotation='vertical')\n",
        "    ax.set_yticklabels(src, minor=False)\n",
        "\n",
        "    # put the major ticks at the middle of each cell\n",
        "    # and the x-ticks on top\n",
        "    ax.xaxis.tick_top()\n",
        "    ax.set_xticks(np.arange(scores.shape[1]) + 0.5, minor=False)\n",
        "    ax.set_yticks(np.arange(scores.shape[0]) + 0.5, minor=False)\n",
        "    ax.invert_yaxis()\n",
        "\n",
        "    plt.colorbar(heatmap)\n",
        "    plt.show()"
      ],
      "execution_count": null,
      "outputs": []
    },
    {
      "cell_type": "code",
      "metadata": {
        "colab": {
          "base_uri": "https://localhost:8080/",
          "height": 1000
        },
        "id": "ErQcz4vhSLU0",
        "outputId": "4bb7c653-cc63-43f7-8b63-7bf02ebaa8c0"
      },
      "source": [
        "# This plots a chosen sentence, for which we saved the attention scores above.\n",
        "idx = 0\n",
        "src = valid_data[idx].src + [\"</s>\"]\n",
        "trg = valid_data[idx].trg + [\"</s>\"]\n",
        "pred = hypotheses[idx].split() + [\"</s>\"]\n",
        "pred_att = alphas[idx][0].T[:, :len(pred)]\n",
        "print(\"src\", src)\n",
        "print(\"ref\", trg)\n",
        "print(\"pred\", pred)\n",
        "plot_heatmap(src, pred, pred_att)"
      ],
      "execution_count": null,
      "outputs": [
        {
          "output_type": "stream",
          "text": [
            "src ['(', 'cnn)singer', '-', 'songwriter', 'david', 'crosby', 'hit', 'a', 'jogger', 'with', 'his', 'car', 'sunday', 'evening', ',', 'a', 'spokesman', 'said', '.', 'the', 'accident', 'happened', 'in', 'santa', 'ynez', ',', 'california', ',', 'near', 'where', 'crosby', 'lives', '.', 'crosby', 'was', 'driving', 'at', 'approximately', '50', 'mph', 'when', 'he', 'struck', 'the', 'jogger', ',', 'according', 'to', 'california', 'highway', 'patrol', 'spokesman', 'don', 'clotworthy', '.', 'the', 'posted', 'speed', 'limit', 'was', '55', '.', 'the', 'jogger', 'suffered', 'multiple', 'fractures', ',', 'and', 'was', 'airlifted', 'to', 'a', 'hospital', 'in', 'santa', 'barbara', ',', 'clotworthy', 'said', '.', 'his', 'injuries', 'are', 'not', 'believed', 'to', 'be', 'life', 'threatening', '.', '\"', 'mr.', 'crosby', 'was', 'cooperative', 'with', 'authorities', 'and', 'he', 'was', 'not', 'impaired', 'or', 'intoxicated', 'in', 'any', 'way', '.', 'mr.', 'crosby', 'did', 'not', 'see', 'the', 'jogger', 'because', 'of', 'the', 'sun', ',', '\"', 'said', 'clotworthy', '.', 'according', 'to', 'the', 'spokesman', ',', 'the', 'jogger', 'and', 'crosby', 'were', 'on', 'the', 'same', 'side', 'of', 'the', 'road', '.', 'pedestrians', 'are', 'supposed', 'to', 'be', 'on', 'the', 'left', 'side', 'of', 'the', 'road', 'walking', 'toward', 'traffic', ',', 'clotworthy', 'said', '.', 'joggers', 'are', 'considered', 'pedestrians', '.', 'crosby', 'is', 'known', 'for', 'weaving', 'multilayered', 'harmonies', 'over', 'sweet', 'melodies', '.', 'he', 'belongs', 'to', 'the', 'celebrated', 'rock', 'group', 'crosby', ',', 'stills', '&', 'nash', '.', '\"', 'david', 'crosby', 'is', 'obviously', 'very', 'upset', 'that', 'he', 'accidentally', 'hit', 'anyone', '.', 'and', ',', 'based', 'off', 'of', 'initial', 'reports', ',', 'he', 'is', 'relieved', 'that', 'the', 'injuries', 'to', 'the', 'gentleman', 'were', 'not', 'life', 'threatening', ',', '\"', 'said', 'michael', 'jensen', ',', 'a', 'crosby', 'spokesman', '.', '\"', 'he', 'wishes', 'the', 'jogger', 'a', 'very', 'speedy', 'recovery', '.', '\"', '</s>']\n",
            "ref ['accident', 'happens', 'in', 'santa', 'ynez', ',', 'california', ',', 'near', 'where', 'crosby', 'lives', '.', '\\n', 'the', 'jogger', 'suffered', 'multiple', 'fractures', ';', 'his', 'injuries', 'are', 'not', 'believed', 'to', 'be', 'life', '-', 'threatening', '.', '</s>']\n",
            "pred ['\"', '<unk>', '\"', 'movie', 'is', 'the', 'first', 'movie', 'movie', 'sequel', '.', 'the', 'movie', 'is', 'set', 'to', 'release', 'the', 'next', 'season', '.', '</s>']\n"
          ],
          "name": "stdout"
        },
        {
          "output_type": "display_data",
          "data": {
            "image/png": "[encoded data removed]",
            "text/plain": [
              "<Figure size 1080x1440 with 2 Axes>"
            ]
          },
          "metadata": {
            "tags": [],
            "needs_background": "light"
          }
        }
      ]
    },
    {
      "cell_type": "code",
      "metadata": {
        "colab": {
          "base_uri": "https://localhost:8080/",
          "height": 1000
        },
        "id": "sJdhDCY6xoN1",
        "outputId": "5edb1da9-8670-4fd2-fd10-1c747c773c08"
      },
      "source": [
        "# This plots a chosen sentence, for which we saved the attention scores above.\n",
        "idx = 5\n",
        "src = valid_data[idx].src + [\"</s>\"]\n",
        "trg = valid_data[idx].trg + [\"</s>\"]\n",
        "pred = hypotheses[idx].split() + [\"</s>\"]\n",
        "pred_att = alphas[idx][0].T[:, :len(pred)]\n",
        "print(\"src\", src)\n",
        "print(\"ref\", trg)\n",
        "print(\"pred\", pred)\n",
        "plot_heatmap(src, pred, pred_att)"
      ],
      "execution_count": null,
      "outputs": [
        {
          "output_type": "stream",
          "text": [
            "src ['(', 'cnn)more', 'than', '100', 'schools', 'in', 'pakistan', 'have', 'been', 'renamed', 'in', 'honor', 'of', 'the', 'children', 'killed', 'in', 'a', 'taliban', 'siege', 'at', 'a', 'peshawar', 'school', 'last', 'year', '.', 'according', 'to', 'the', 'provincial', 'government', 'of', 'khyber', 'pakhtunkhwa', ',', '107', 'local', 'schools', 'now', 'bear', 'the', 'name', 'of', 'a', 'student', 'killed', 'during', 'the', 'december', '16', 'attack', 'on', 'the', 'army', 'public', 'school', '.', 'government', 'spokesman', 'mushtaq', 'ghani', 'told', 'cnn', 'that', 'the', 'gesture', 'was', 'a', 'way', 'to', 'remember', 'the', 'bravery', 'of', 'the', 'students', 'who', 'were', 'taking', 'exams', 'in', 'an', 'auditorium', ' ', 'when', 'taliban', 'militants', 'strapped', 'with', 'explosives', 'laid', 'siege', '.', 'some', 'six', 'hours', 'later', ',', '145', 'were', 'dead', ',', '132', 'of', 'them', 'children', ',', 'according', 'to', 'authorities', '.', 'in', 'february', ',', 'pakistani', 'authorities', 'arrested', 'a', 'suspect', ',', 'accusing', 'him', 'of', 'commanding', 'the', 'attack', '.', 'the', 'army', 'public', 'school', 'is', 'home', 'to', 'about', '1,100', 'students', 'and', 'staff', ',', 'most', 'of', 'them', 'sons', 'and', 'daughters', 'of', 'army', 'personnel', 'from', 'around', 'peshawar', '.', 'cnn', \"'s\", 'sophia', 'saifi', 'and', 'mariano', 'castillo', 'contributed', 'to', 'this', 'report', '.', '</s>']\n",
            "ref ['more', 'than', '100', 'schools', 'renamed', 'in', 'honor', 'of', 'students', 'killed', 'in', 'a', 'taliban', 'schoolhouse', 'attack', '.', '\\n', 'a', 'six', '-', 'hour', 'siege', 'at', 'a', 'peshawar', 'school', 'killed', '145', 'people', 'in', 'december', '.', '</s>']\n",
            "pred ['government', 'has', 'ordered', 'a', 'name', 'of', 'a', 'student', 'killed', 'during', 'a', 'december', 'attack', '.', 'the', 'government', 'says', 'the', 'gesture', 'was', 'a', 'way', 'to', 'remember', '</s>']\n"
          ],
          "name": "stdout"
        },
        {
          "output_type": "display_data",
          "data": {
            "image/png": "[encoded data removed]",
            "text/plain": [
              "<Figure size 1080x1440 with 2 Axes>"
            ]
          },
          "metadata": {
            "tags": [],
            "needs_background": "light"
          }
        }
      ]
    },
    {
      "cell_type": "markdown",
      "metadata": {
        "id": "prNvGytkSyLA"
      },
      "source": [
        "# ROUGE scores"
      ]
    },
    {
      "cell_type": "code",
      "metadata": {
        "colab": {
          "base_uri": "https://localhost:8080/"
        },
        "id": "mKkUrpI2S04U",
        "outputId": "1a21adac-9621-4d71-b54f-e29037639aee"
      },
      "source": [
        "!pip install rouge-score"
      ],
      "execution_count": 27,
      "outputs": [
        {
          "output_type": "stream",
          "text": [
            "Collecting rouge-score\n",
            "  Downloading https://files.pythonhosted.org/packages/1f/56/a81022436c08b9405a5247b71635394d44fe7e1dbedc4b28c740e09c2840/rouge_score-0.0.4-py2.py3-none-any.whl\n",
            "Requirement already satisfied: numpy in /usr/local/lib/python3.6/dist-packages (from rouge-score) (1.18.5)\n",
            "Requirement already satisfied: six>=1.14.0 in /usr/local/lib/python3.6/dist-packages (from rouge-score) (1.15.0)\n",
            "Requirement already satisfied: absl-py in /usr/local/lib/python3.6/dist-packages (from rouge-score) (0.10.0)\n",
            "Requirement already satisfied: nltk in /usr/local/lib/python3.6/dist-packages (from rouge-score) (3.2.5)\n",
            "Installing collected packages: rouge-score\n",
            "Successfully installed rouge-score-0.0.4\n"
          ],
          "name": "stdout"
        }
      ]
    },
    {
      "cell_type": "code",
      "metadata": {
        "id": "xCjbZP8LTOKU"
      },
      "source": [
        "from rouge_score import rouge_scorer\n",
        "\n",
        "def calc_rouge(scorer, sources, predictions):\n",
        "  rouge1 = 0\n",
        "  rouge2 = 0\n",
        "  rougeL = 0\n",
        "  for i in range(len(sources)):\n",
        "    scores = scorer.score(sources[i], predictions[i])\n",
        "    rouge1+=scores['rouge1'][2]\n",
        "    rouge2+=scores['rouge2'][2]\n",
        "    rougeL+=scores['rougeL'][2]\n",
        "  return rouge1/len(sources), rouge2/len(sources), rougeL/len(sources)"
      ],
      "execution_count": 28,
      "outputs": []
    },
    {
      "cell_type": "code",
      "metadata": {
        "colab": {
          "base_uri": "https://localhost:8080/"
        },
        "id": "uHcJvLUmTQss",
        "outputId": "4ea2f039-2677-4bc8-d74e-2080d1509b73"
      },
      "source": [
        "scorer = rouge_scorer.RougeScorer(['rouge1', 'rouge2', 'rougeL'], use_stemmer=True)\n",
        "sources = ['My name is Bob', \"Hello mom\"]\n",
        "predictions = ['They call me Bob', \"Hi there, mother\"]\n",
        "calc_rouge(scorer, sources, predictions)"
      ],
      "execution_count": 30,
      "outputs": [
        {
          "output_type": "execute_result",
          "data": {
            "text/plain": [
              "(0.125, 0.0, 0.125)"
            ]
          },
          "metadata": {
            "tags": []
          },
          "execution_count": 30
        }
      ]
    },
    {
      "cell_type": "markdown",
      "metadata": {
        "id": "aqADqtt1f7iF"
      },
      "source": [
        "Rouge scores fail to encapsulate meaning"
      ]
    },
    {
      "cell_type": "markdown",
      "metadata": {
        "id": "4pjZ92DugCcG"
      },
      "source": [
        "# Calculate ROUGE scores on test set"
      ]
    },
    {
      "cell_type": "code",
      "metadata": {
        "id": "bLmZ8wM6T3-I"
      },
      "source": [
        "def beam_search_decode(model, src, src_mask, src_lengths, max_len=100, sos_index=1, eos_index=None, beam_width=3):\n",
        "    \"\"\"Beam search to decode the summaries.\"\"\"\n",
        "\n",
        "    with torch.no_grad():\n",
        "        encoder_hidden, encoder_final = model.encode(src, src_mask, src_lengths)\n",
        "        prev_y = torch.ones(1, 1).fill_(sos_index).type_as(src)\n",
        "        trg_mask = torch.ones_like(prev_y)\n",
        "\n",
        "    sequences = [[list(), 0.0]]\n",
        "    attention_scores = []\n",
        "    hidden = None\n",
        "\n",
        "    for i in range(max_len):\n",
        "      all_candidates = []\n",
        "      if i==0: #on first iteration, we only use the sos_index to feed into the decoder\n",
        "          with torch.no_grad():\n",
        "              out, hidden, pre_output = model.decode(encoder_hidden, encoder_final, src_mask,\n",
        "                                                    prev_y, trg_mask, hidden)\n",
        "              prob = model.generator(pre_output[:, -1])\n",
        "              top_hiddens = [hidden]*beam_width #these will all be the same for first iteration\n",
        "\n",
        "          attention_scores.append(model.decoder.attention.alphas.cpu().numpy())\n",
        "          seq, score = sequences[i]\n",
        "          scores, next_words = torch.topk(prob, k=beam_width, dim=1) #scores are the log(prob) values and next_words are the indices\n",
        "          scores, next_words = scores.data[0], next_words.data[0]\n",
        "          for j in range(len(next_words)):\n",
        "            candidates = [seq + [next_words[j].cpu().item()], score + scores[j].item()]\n",
        "            all_candidates.append(candidates) #sequences are length 3 at the end of this\n",
        "\n",
        "          ordered = sorted(all_candidates, key=lambda tup:tup[1], reverse=True)\n",
        "          sequences = ordered[:beam_width]\n",
        "\n",
        "      else: #after first iteration, we have k words to use as prior distribution in order to decode next word\n",
        "        hidden_states = []\n",
        "        for k in range(len(sequences)):          \n",
        "            with torch.no_grad():\n",
        "                use_hidden = top_hiddens[k]\n",
        "                prev_y = torch.ones(1, 1).type_as(src).fill_(next_words[k].item())\n",
        "                out, hidden, pre_output = model.decode(encoder_hidden, encoder_final, src_mask,\n",
        "                                                      prev_y, trg_mask, use_hidden)   \n",
        "                prob = model.generator(pre_output[:, -1])\n",
        "                hidden_states.append(hidden)\n",
        "\n",
        "            attention_scores.append(model.decoder.attention.alphas.cpu().numpy())\n",
        "            seq, score = sequences[k]\n",
        "            new_scores, new_next_words = torch.topk(prob, k=beam_width, dim=1) #next words are the indices\n",
        "            new_scores, new_next_words = new_scores.data[0], new_next_words.data[0] #index into double list\n",
        "            for j in range(len(new_scores)):\n",
        "                candidates = [seq + [new_next_words[j].cpu().item()], score + new_scores[j].item()]\n",
        "                all_candidates.append(candidates)\n",
        "\n",
        "        #prune ouputs to include top k probabilities\n",
        "        ordered = sorted(all_candidates, key=lambda tup:tup[1], reverse=True)\n",
        "        sequences = ordered[:beam_width]\n",
        "\n",
        "        #create hidden states to use in next time step based off the word use to achieve the best next word (likelihood, which is the second\n",
        "        # to last number in the sequences structure)\n",
        "        top_hiddens = []\n",
        "        for h in range(len(next_words)):\n",
        "          idx = next_words.tolist().index(sequences[h][0][-2])\n",
        "          top_hiddens.append(hidden_states[idx])\n",
        "\n",
        "        #create next words to be used as prev_y in decoder \n",
        "        next_words = []\n",
        "        for w in range(len(sequences)):\n",
        "          next_words.append(sequences[w][0][-1])\n",
        "        next_words = torch.Tensor(next_words)\n",
        "    \n",
        "    #at end of loop prune to the single best sequence found through beam search. This will be the first sequence since we have been ordering them\n",
        "    output = np.array(sequences[0][0])\n",
        "        \n",
        "    # cut off everything starting from </s>\n",
        "    # (only when eos_index provided)\n",
        "    if eos_index is not None:\n",
        "        first_eos = np.where(output==eos_index)[0]\n",
        "        if len(first_eos) > 0:\n",
        "            output = output[:first_eos[0]]      \n",
        "    \n",
        "    return output, np.concatenate(attention_scores, axis=1)\n",
        "  \n",
        "\n",
        "def lookup_words(x, vocab=None):\n",
        "    if vocab is not None:\n",
        "        x = [vocab.itos[i] for i in x]\n",
        "\n",
        "    return [str(t) for t in x]"
      ],
      "execution_count": 31,
      "outputs": []
    },
    {
      "cell_type": "markdown",
      "metadata": {
        "id": "aBp3eXaNT8Ob"
      },
      "source": [
        "Test out greedy decode vs. beam"
      ]
    },
    {
      "cell_type": "code",
      "metadata": {
        "colab": {
          "base_uri": "https://localhost:8080/"
        },
        "id": "2aJW7qFTgDFH",
        "outputId": "48a5b178-4366-4ef5-bc6d-9bb01fab0321"
      },
      "source": [
        "#Beam search\n",
        "\n",
        "hypotheses = []\n",
        "alphas = []  # save the last attention scores\n",
        "for batch in test_iter:\n",
        "  batch = rebatch(PAD_INDEX, batch)\n",
        "  pred, attention = beam_search_decode(model, batch.src, batch.src_mask, batch.src_lengths, max_len=25,\n",
        "                                       sos_index=TRG.vocab.stoi[SOS_TOKEN],\n",
        "                                       eos_index=TRG.vocab.stoi[EOS_TOKEN],\n",
        "                                       beam_width=6)\n",
        "  hypotheses.append(pred)\n",
        "  alphas.append(attention)\n",
        "\n",
        "#convert hypotheses into sentences\n",
        "hypotheses = [lookup_words(x, TRG.vocab) for x in hypotheses]\n",
        "hypotheses = [\" \".join(x) for x in hypotheses]"
      ],
      "execution_count": 32,
      "outputs": [
        {
          "output_type": "stream",
          "text": [
            "/usr/local/lib/python3.6/dist-packages/torchtext/data/batch.py:23: UserWarning: Batch class will be retired soon and moved to torchtext.legacy. Please see the most recent release notes for further information.\n",
            "  warnings.warn('{} class will be retired soon and moved to torchtext.legacy. Please see the most recent release notes for further information.'.format(self.__class__.__name__), UserWarning)\n"
          ],
          "name": "stderr"
        }
      ]
    },
    {
      "cell_type": "code",
      "metadata": {
        "colab": {
          "base_uri": "https://localhost:8080/"
        },
        "id": "5LxeNGe8N8gu",
        "outputId": "c7e35883-f668-431c-89ce-d6ee8786479f"
      },
      "source": [
        "#Greedy decoding results (k=1)\n",
        "references = [\" \".join(example.trg) for example in test_data]\n",
        "scorer = rouge_scorer.RougeScorer(['rouge1', 'rouge2', 'rougeL'], use_stemmer=True)\n",
        "rouge1, rouge2, rougeL = calc_rouge(scorer, references, hypotheses)\n",
        "print(\"Rouge 1 Score: \", rouge1)\n",
        "print(\"Rouge 2 Score: \", rouge2)\n",
        "print(\"Rouge L Score: \", rougeL)"
      ],
      "execution_count": null,
      "outputs": [
        {
          "output_type": "stream",
          "text": [
            "Rouge 1 Score:  0.25270702089071645\n",
            "Rouge 2 Score:  0.07569303775132512\n",
            "Rouge L Score:  0.19548488131958094\n"
          ],
          "name": "stdout"
        }
      ]
    },
    {
      "cell_type": "code",
      "metadata": {
        "colab": {
          "base_uri": "https://localhost:8080/"
        },
        "id": "shupGC8Il5sx",
        "outputId": "602dfd3e-f7f4-474c-a8d7-04c70923cd80"
      },
      "source": [
        "references = [\" \".join(example.trg) for example in test_data]\n",
        "scorer = rouge_scorer.RougeScorer(['rouge1', 'rouge2', 'rougeL'], use_stemmer=True)\n",
        "rouge1, rouge2, rougeL = calc_rouge(scorer, references, hypotheses)\n",
        "print(\"Beam Search Results k = 2\")\n",
        "print(\"Rouge 1 Score: \", rouge1)\n",
        "print(\"Rouge 2 Score: \", rouge2)\n",
        "print(\"Rouge L Score: \", rougeL)"
      ],
      "execution_count": null,
      "outputs": [
        {
          "output_type": "stream",
          "text": [
            "Beam Search Results k = 2\n",
            "Rouge 1 Score:  0.26198364170906324\n",
            "Rouge 2 Score:  0.08806306115961755\n",
            "Rouge L Score:  0.20350317649185543\n"
          ],
          "name": "stdout"
        }
      ]
    },
    {
      "cell_type": "code",
      "metadata": {
        "colab": {
          "base_uri": "https://localhost:8080/"
        },
        "id": "1Gbv-alWj73J",
        "outputId": "04db62fa-2c42-482d-c026-507f811f77e7"
      },
      "source": [
        "references = [\" \".join(example.trg) for example in test_data]\n",
        "scorer = rouge_scorer.RougeScorer(['rouge1', 'rouge2', 'rougeL'], use_stemmer=True)\n",
        "rouge1, rouge2, rougeL = calc_rouge(scorer, references, hypotheses)\n",
        "print(\"Beam Search Results k = 3\")\n",
        "print(\"Rouge 1 Score: \", rouge1)\n",
        "print(\"Rouge 2 Score: \", rouge2)\n",
        "print(\"Rouge L Score: \", rougeL)"
      ],
      "execution_count": null,
      "outputs": [
        {
          "output_type": "stream",
          "text": [
            "Beam Search Results k = 3\n",
            "Rouge 1 Score:  0.2671505670064548\n",
            "Rouge 2 Score:  0.09469638247392158\n",
            "Rouge L Score:  0.20739410341317083\n"
          ],
          "name": "stdout"
        }
      ]
    },
    {
      "cell_type": "code",
      "metadata": {
        "colab": {
          "base_uri": "https://localhost:8080/"
        },
        "id": "lTN_mh4fnohR",
        "outputId": "4f5ff6de-654a-4f83-e1ac-f7ebc5c0272f"
      },
      "source": [
        "references = [\" \".join(example.trg) for example in test_data]\n",
        "scorer = rouge_scorer.RougeScorer(['rouge1', 'rouge2', 'rougeL'], use_stemmer=True)\n",
        "rouge1, rouge2, rougeL = calc_rouge(scorer, references, hypotheses)\n",
        "print(\"Beam Search Results k = 4\")\n",
        "print(\"Rouge 1 Score: \", rouge1)\n",
        "print(\"Rouge 2 Score: \", rouge2)\n",
        "print(\"Rouge L Score: \", rougeL)"
      ],
      "execution_count": null,
      "outputs": [
        {
          "output_type": "stream",
          "text": [
            "Beam Search Results k = 4\n",
            "Rouge 1 Score:  0.26824288015493625\n",
            "Rouge 2 Score:  0.09663463816404481\n",
            "Rouge L Score:  0.20888597941913337\n"
          ],
          "name": "stdout"
        }
      ]
    },
    {
      "cell_type": "code",
      "metadata": {
        "colab": {
          "base_uri": "https://localhost:8080/"
        },
        "id": "aJSfjungpna2",
        "outputId": "5cb81728-e3f0-486a-9ded-a141a678b143"
      },
      "source": [
        "references = [\" \".join(example.trg) for example in test_data]\n",
        "scorer = rouge_scorer.RougeScorer(['rouge1', 'rouge2', 'rougeL'], use_stemmer=True)\n",
        "rouge1, rouge2, rougeL = calc_rouge(scorer, references, hypotheses)\n",
        "print(\"Beam Search Results k = 5\")\n",
        "print(\"Rouge 1 Score: \", rouge1)\n",
        "print(\"Rouge 2 Score: \", rouge2)\n",
        "print(\"Rouge L Score: \", rougeL)"
      ],
      "execution_count": null,
      "outputs": [
        {
          "output_type": "stream",
          "text": [
            "Beam Search Results k = 5\n",
            "Rouge 1 Score:  0.2701228480494834\n",
            "Rouge 2 Score:  0.09810189358062363\n",
            "Rouge L Score:  0.2108817576046179\n"
          ],
          "name": "stdout"
        }
      ]
    },
    {
      "cell_type": "code",
      "metadata": {
        "colab": {
          "base_uri": "https://localhost:8080/"
        },
        "id": "fDtI9rxMr5YK",
        "outputId": "94cd2753-3f89-4196-ff14-139e21cea66a"
      },
      "source": [
        "references = [\" \".join(example.trg) for example in test_data]\n",
        "scorer = rouge_scorer.RougeScorer(['rouge1', 'rouge2', 'rougeL'], use_stemmer=True)\n",
        "rouge1, rouge2, rougeL = calc_rouge(scorer, references, hypotheses)\n",
        "print(\"Beam Search Results k = 6\")\n",
        "print(\"Rouge 1 Score: \", rouge1)\n",
        "print(\"Rouge 2 Score: \", rouge2)\n",
        "print(\"Rouge L Score: \", rougeL)"
      ],
      "execution_count": null,
      "outputs": [
        {
          "output_type": "stream",
          "text": [
            "Beam Search Results k = 6\n",
            "Rouge 1 Score:  0.27080369283949324\n",
            "Rouge 2 Score:  0.09931233604159108\n",
            "Rouge L Score:  0.2117791035888489\n"
          ],
          "name": "stdout"
        }
      ]
    },
    {
      "cell_type": "markdown",
      "metadata": {
        "id": "q6QbchUl17ui"
      },
      "source": [
        "With label smoothing results:"
      ]
    },
    {
      "cell_type": "code",
      "metadata": {
        "colab": {
          "base_uri": "https://localhost:8080/"
        },
        "id": "KqoSQFRU1pn-",
        "outputId": "2b77fbd2-df44-4afa-9d22-52afdd155717"
      },
      "source": [
        "references = [\" \".join(example.trg) for example in test_data]\n",
        "scorer = rouge_scorer.RougeScorer(['rouge1', 'rouge2', 'rougeL'], use_stemmer=True)\n",
        "rouge1, rouge2, rougeL = calc_rouge(scorer, references, hypotheses)\n",
        "print(\"Beam Search Results k = 6\")\n",
        "print(\"Rouge 1 Score: \", rouge1)\n",
        "print(\"Rouge 2 Score: \", rouge2)\n",
        "print(\"Rouge L Score: \", rougeL)"
      ],
      "execution_count": 33,
      "outputs": [
        {
          "output_type": "stream",
          "text": [
            "Beam Search Results k = 6\n",
            "Rouge 1 Score:  0.27657785778886923\n",
            "Rouge 2 Score:  0.10563689216530285\n",
            "Rouge L Score:  0.2149177700296959\n"
          ],
          "name": "stdout"
        }
      ]
    },
    {
      "cell_type": "markdown",
      "metadata": {
        "id": "sr_4_7XYGBlc"
      },
      "source": [
        "Create plot"
      ]
    },
    {
      "cell_type": "code",
      "metadata": {
        "colab": {
          "base_uri": "https://localhost:8080/",
          "height": 295
        },
        "id": "ABjnqoTmGDmu",
        "outputId": "0c6e3837-dfab-4159-d577-3a6ba13d17dd"
      },
      "source": [
        "rouge_1 = [0.2527, 0.26198, 0.26715, 0.26824, 0.2701, 0.2708]\n",
        "rouge_2 = [0.07569303775132512, 0.08806306115961755, 0.09469638247392158, 0.09663463816404481, 0.09810189358062363, 0.09931233604159108]\n",
        "rouge_L = [0.19548488131958094, 0.20350317649185543, 0.20739410341317083, 0.20888597941913337, 0.2108817576046179, 0.2117791035888489]\n",
        "\n",
        "import matplotlib.pyplot as plt\n",
        "plt.figure(figsize=(6,4))\n",
        "plt.plot(rouge_1, 'ro--')\n",
        "plt.xlabel(\"Beam Width\")\n",
        "plt.ylabel(\"Rouge Score Value\")\n",
        "plt.title(\"Rouge-1 Score vs. Beam Search Width Parameter\")\n",
        "plt.show()"
      ],
      "execution_count": null,
      "outputs": [
        {
          "output_type": "display_data",
          "data": {
            "image/png": "[encoded data removed]",
            "text/plain": [
              "<Figure size 432x288 with 1 Axes>"
            ]
          },
          "metadata": {
            "tags": [],
            "needs_background": "light"
          }
        }
      ]
    },
    {
      "cell_type": "code",
      "metadata": {
        "colab": {
          "base_uri": "https://localhost:8080/",
          "height": 295
        },
        "id": "Nmuys9PGJFTf",
        "outputId": "434cf175-51fc-4ffc-bb5d-878ba665b20a"
      },
      "source": [
        "plt.figure(figsize=(6,4))\n",
        "plt.plot(rouge_2, 'bo--')\n",
        "plt.xlabel(\"Beam Width\")\n",
        "plt.ylabel(\"Rouge Score Value\")\n",
        "plt.title(\"Rouge-2 Score vs. Beam Search Width Parameter\")\n",
        "plt.show()"
      ],
      "execution_count": null,
      "outputs": [
        {
          "output_type": "display_data",
          "data": {
            "image/png": "[encoded data removed]",
            "text/plain": [
              "<Figure size 432x288 with 1 Axes>"
            ]
          },
          "metadata": {
            "tags": [],
            "needs_background": "light"
          }
        }
      ]
    },
    {
      "cell_type": "code",
      "metadata": {
        "colab": {
          "base_uri": "https://localhost:8080/",
          "height": 295
        },
        "id": "94__quN4JHPV",
        "outputId": "aa54b1da-0cf3-4760-bac0-161472961418"
      },
      "source": [
        "plt.figure(figsize=(6,4))\n",
        "plt.plot(rouge_L, 'go--')\n",
        "plt.xlabel(\"Beam Width\")\n",
        "plt.ylabel(\"Rouge Score Value\")\n",
        "plt.title(\"Rouge-L Score vs. Beam Search Width Parameter\")\n",
        "plt.show()"
      ],
      "execution_count": null,
      "outputs": [
        {
          "output_type": "display_data",
          "data": {
            "image/png": "[encoded data removed]",
            "text/plain": [
              "<Figure size 432x288 with 1 Axes>"
            ]
          },
          "metadata": {
            "tags": [],
            "needs_background": "light"
          }
        }
      ]
    },
    {
      "cell_type": "markdown",
      "metadata": {
        "id": "TEi_amKjzziv"
      },
      "source": [
        "Save summaries to csv for question-answering scores"
      ]
    },
    {
      "cell_type": "code",
      "metadata": {
        "colab": {
          "base_uri": "https://localhost:8080/",
          "height": 204
        },
        "id": "gfsQhMpLyUtZ",
        "outputId": "0b3ca820-9764-44e7-9c38-b933906af543"
      },
      "source": [
        "import pandas as pd\n",
        "df = pd.DataFrame(np.array(hypotheses).reshape(-1,1), columns=['predicted_summary'])\n",
        "df['original_summary'] = np.array(references).reshape(-1,1)\n",
        "df.head()"
      ],
      "execution_count": null,
      "outputs": [
        {
          "output_type": "execute_result",
          "data": {
            "text/html": [
              "<div>\n",
              "<style scoped>\n",
              "    .dataframe tbody tr th:only-of-type {\n",
              "        vertical-align: middle;\n",
              "    }\n",
              "\n",
              "    .dataframe tbody tr th {\n",
              "        vertical-align: top;\n",
              "    }\n",
              "\n",
              "    .dataframe thead th {\n",
              "        text-align: right;\n",
              "    }\n",
              "</style>\n",
              "<table border=\"1\" class=\"dataframe\">\n",
              "  <thead>\n",
              "    <tr style=\"text-align: right;\">\n",
              "      <th></th>\n",
              "      <th>predicted_summary</th>\n",
              "      <th>original_summary</th>\n",
              "    </tr>\n",
              "  </thead>\n",
              "  <tbody>\n",
              "    <tr>\n",
              "      <th>0</th>\n",
              "      <td>comic book is expected to release the &lt;unk&gt; \" ...</td>\n",
              "      <td>michelle maclaren is no longer set to direct t...</td>\n",
              "    </tr>\n",
              "    <tr>\n",
              "      <th>1</th>\n",
              "      <td>a roadside bombing kills the taliban commander...</td>\n",
              "      <td>saudi general says more than 1,200 airstrikes ...</td>\n",
              "    </tr>\n",
              "    <tr>\n",
              "      <th>2</th>\n",
              "      <td>the &lt;unk&gt; &lt;unk&gt; was a former student in the &lt;u...</td>\n",
              "      <td>six people taken hostage in a kosher market si...</td>\n",
              "    </tr>\n",
              "    <tr>\n",
              "      <th>3</th>\n",
              "      <td>police say they were released in the incident ...</td>\n",
              "      <td>police questioned the group about an alleged a...</td>\n",
              "    </tr>\n",
              "    <tr>\n",
              "      <th>4</th>\n",
              "      <td>&lt;unk&gt; &lt;unk&gt; , 26 , allegedly stole a woman wit...</td>\n",
              "      <td>former tsa agent daniel boykin , 33 , videotap...</td>\n",
              "    </tr>\n",
              "  </tbody>\n",
              "</table>\n",
              "</div>"
            ],
            "text/plain": [
              "                                   predicted_summary                                   original_summary\n",
              "0  comic book is expected to release the <unk> \" ...  michelle maclaren is no longer set to direct t...\n",
              "1  a roadside bombing kills the taliban commander...  saudi general says more than 1,200 airstrikes ...\n",
              "2  the <unk> <unk> was a former student in the <u...  six people taken hostage in a kosher market si...\n",
              "3  police say they were released in the incident ...  police questioned the group about an alleged a...\n",
              "4  <unk> <unk> , 26 , allegedly stole a woman wit...  former tsa agent daniel boykin , 33 , videotap..."
            ]
          },
          "metadata": {
            "tags": []
          },
          "execution_count": 53
        }
      ]
    },
    {
      "cell_type": "code",
      "metadata": {
        "id": "dx7-u6wjyu7C"
      },
      "source": [
        "df.to_csv(\"predicted_summaries.csv\")\n",
        "from google.colab import files\n",
        "files.download('predicted_summaries.csv')"
      ],
      "execution_count": null,
      "outputs": []
    },
    {
      "cell_type": "code",
      "metadata": {
        "colab": {
          "base_uri": "https://localhost:8080/",
          "height": 204
        },
        "id": "ZJqXEazYzyHB",
        "outputId": "637fdb36-00ae-466d-e12a-9eef651ac2a5"
      },
      "source": [
        "import pandas as pd\n",
        "df = pd.DataFrame(np.array(hypotheses).reshape(-1,1), columns=['predicted_summary'])\n",
        "df['original_summary'] = np.array(references).reshape(-1,1)\n",
        "df.head()"
      ],
      "execution_count": 34,
      "outputs": [
        {
          "output_type": "execute_result",
          "data": {
            "text/html": [
              "<div>\n",
              "<style scoped>\n",
              "    .dataframe tbody tr th:only-of-type {\n",
              "        vertical-align: middle;\n",
              "    }\n",
              "\n",
              "    .dataframe tbody tr th {\n",
              "        vertical-align: top;\n",
              "    }\n",
              "\n",
              "    .dataframe thead th {\n",
              "        text-align: right;\n",
              "    }\n",
              "</style>\n",
              "<table border=\"1\" class=\"dataframe\">\n",
              "  <thead>\n",
              "    <tr style=\"text-align: right;\">\n",
              "      <th></th>\n",
              "      <th>predicted_summary</th>\n",
              "      <th>original_summary</th>\n",
              "    </tr>\n",
              "  </thead>\n",
              "  <tbody>\n",
              "    <tr>\n",
              "      <th>0</th>\n",
              "      <td>\" &lt;unk&gt; \" &lt;unk&gt; is the first \" movie \" movie \"...</td>\n",
              "      <td>michelle maclaren is no longer set to direct t...</td>\n",
              "    </tr>\n",
              "    <tr>\n",
              "      <th>1</th>\n",
              "      <td>new : the u.s. health ministry says the death ...</td>\n",
              "      <td>saudi general says more than 1,200 airstrikes ...</td>\n",
              "    </tr>\n",
              "    <tr>\n",
              "      <th>2</th>\n",
              "      <td>paris saint - &lt;unk&gt; &lt;unk&gt; was arrested in a po...</td>\n",
              "      <td>six people taken hostage in a kosher market si...</td>\n",
              "    </tr>\n",
              "    <tr>\n",
              "      <th>3</th>\n",
              "      <td>&lt;unk&gt; &lt;unk&gt; , 21 , was shot in the &lt;unk&gt; by a ...</td>\n",
              "      <td>police questioned the group about an alleged a...</td>\n",
              "    </tr>\n",
              "    <tr>\n",
              "      <th>4</th>\n",
              "      <td>&lt;unk&gt; &lt;unk&gt; , 29 , was arrested last month whe...</td>\n",
              "      <td>former tsa agent daniel boykin , 33 , videotap...</td>\n",
              "    </tr>\n",
              "  </tbody>\n",
              "</table>\n",
              "</div>"
            ],
            "text/plain": [
              "                                   predicted_summary                                   original_summary\n",
              "0  \" <unk> \" <unk> is the first \" movie \" movie \"...  michelle maclaren is no longer set to direct t...\n",
              "1  new : the u.s. health ministry says the death ...  saudi general says more than 1,200 airstrikes ...\n",
              "2  paris saint - <unk> <unk> was arrested in a po...  six people taken hostage in a kosher market si...\n",
              "3  <unk> <unk> , 21 , was shot in the <unk> by a ...  police questioned the group about an alleged a...\n",
              "4  <unk> <unk> , 29 , was arrested last month whe...  former tsa agent daniel boykin , 33 , videotap..."
            ]
          },
          "metadata": {
            "tags": []
          },
          "execution_count": 34
        }
      ]
    },
    {
      "cell_type": "code",
      "metadata": {
        "colab": {
          "base_uri": "https://localhost:8080/",
          "height": 17
        },
        "id": "ArT9A3gD2dfO",
        "outputId": "22fc82b9-c990-4de3-fcdb-6e76ed5e7680"
      },
      "source": [
        "df.to_csv(\"final_model_predicted_summaries.csv\")\n",
        "from google.colab import files\n",
        "files.download('final_model_predicted_summaries.csv')"
      ],
      "execution_count": 37,
      "outputs": [
        {
          "output_type": "display_data",
          "data": {
            "application/javascript": [
              "\n",
              "    async function download(id, filename, size) {\n",
              "      if (!google.colab.kernel.accessAllowed) {\n",
              "        return;\n",
              "      }\n",
              "      const div = document.createElement('div');\n",
              "      const label = document.createElement('label');\n",
              "      label.textContent = `Downloading \"${filename}\": `;\n",
              "      div.appendChild(label);\n",
              "      const progress = document.createElement('progress');\n",
              "      progress.max = size;\n",
              "      div.appendChild(progress);\n",
              "      document.body.appendChild(div);\n",
              "\n",
              "      const buffers = [];\n",
              "      let downloaded = 0;\n",
              "\n",
              "      const channel = await google.colab.kernel.comms.open(id);\n",
              "      // Send a message to notify the kernel that we're ready.\n",
              "      channel.send({})\n",
              "\n",
              "      for await (const message of channel.messages) {\n",
              "        // Send a message to notify the kernel that we're ready.\n",
              "        channel.send({})\n",
              "        if (message.buffers) {\n",
              "          for (const buffer of message.buffers) {\n",
              "            buffers.push(buffer);\n",
              "            downloaded += buffer.byteLength;\n",
              "            progress.value = downloaded;\n",
              "          }\n",
              "        }\n",
              "      }\n",
              "      const blob = new Blob(buffers, {type: 'application/binary'});\n",
              "      const a = document.createElement('a');\n",
              "      a.href = window.URL.createObjectURL(blob);\n",
              "      a.download = filename;\n",
              "      div.appendChild(a);\n",
              "      a.click();\n",
              "      div.remove();\n",
              "    }\n",
              "  "
            ],
            "text/plain": [
              "<IPython.core.display.Javascript object>"
            ]
          },
          "metadata": {
            "tags": []
          }
        },
        {
          "output_type": "display_data",
          "data": {
            "application/javascript": [
              "download(\"download_b99e9e2c-d4f8-4127-bd5c-d730bd9d81dc\", \"final_model_predicted_summaries.csv\", 732398)"
            ],
            "text/plain": [
              "<IPython.core.display.Javascript object>"
            ]
          },
          "metadata": {
            "tags": []
          }
        }
      ]
    },
    {
      "cell_type": "markdown",
      "metadata": {
        "id": "m3URaQoyxoN1"
      },
      "source": [
        "This notebook is an adaptation from the following source:\n",
        "\n",
        "> J Bastings. 2018. The Annotated Encoder-Decoder with Attention. https://bastings.github.io/annotated_encoder_decoder/\n",
        "\n",
        "Or use the following `Bibtex`:\n",
        "```\n",
        "@misc{bastings2018annotated,\n",
        "  title={The Annotated Encoder-Decoder with Attention},\n",
        "  author={Bastings, J.},\n",
        "  journal={https://bastings.github.io/annotated\\_encoder\\_decoder/},\n",
        "  year={2018}\n",
        "}```"
      ]
    }
  ]
}